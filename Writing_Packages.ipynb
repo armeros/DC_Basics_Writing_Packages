{
  "nbformat": 4,
  "nbformat_minor": 0,
  "metadata": {
    "colab": {
      "name": "Writing_Packages",
      "provenance": []
    },
    "kernelspec": {
      "name": "python3",
      "display_name": "Python 3"
    },
    "language_info": {
      "name": "python"
    }
  },
  "cells": [
    {
      "cell_type": "code",
      "metadata": {
        "id": "xaP_ruluVbsu"
      },
      "source": [
        "# When developing packages, it will be important to know your terminology.\n",
        "# Can you name the different parts of this package directory tree?\n",
        "\n",
        "directory1/           # This is package\n",
        "|-- __init__.py\n",
        "|-- directory2        # This is subpackage\n",
        "|   |-- __init__.py\n",
        "|   `-- file1.py      # This is module\n",
        "`-- file2.py          # This is module\n",
        "\n",
        "# However, remember that in the wild, some people also use the term \"library\" to mean package."
      ],
      "execution_count": null,
      "outputs": []
    },
    {
      "cell_type": "code",
      "metadata": {
        "id": "KEOQBKY64n80"
      },
      "source": [
        "# Steps ในการสร้าง package\n",
        "# 1 Create a new directory called textanalysis for your package. Click File > New Folder in the IDE.\n",
        "# 2 Create __init__.py and textanalysis.py modules inside textanalysis. Click the new textanalysis folder, then click File > New File in the IDE to create new files inside it.\n",
        "# 3 Copy the code from myscript.py (ปกติ ก็คือใน __main__) into textanalysis.py.\n",
        "\n",
        "\n",
        "#### myscript.py\n",
        "# Open the text file\n",
        "with open('alice.txt') as file:\n",
        "    text = file.read()\n",
        "\n",
        "n = 0\n",
        "for word in text.split():\n",
        "    # Count the number of times the words in the list appear\n",
        "    if word.lower() in ['cat', 'cats']:\n",
        "        n += 1\n",
        "\n",
        "print('Lewis Carroll uses the word \"cat\" {} times'.format(n))\n",
        "\n",
        "# 4 Modify textanalysis.py to create the function count_words(filepath, words_list) \n",
        "# which opens the text file filepath, and returns the number of times the words in words_list appear.\n",
        "\n",
        "### textanalysis.py\n",
        "def count_words(filepath, words_list):\n",
        "    with open(filepath) as file:\n",
        "        text = file.read()\n",
        "\n",
        "    n = 0\n",
        "    for word in text.split():\n",
        "        # Count the number of times the words in the list appear\n",
        "        if word.lower() in words_list:\n",
        "            n += 1\n",
        "\n",
        "    return n\n"
      ],
      "execution_count": null,
      "outputs": []
    },
    {
      "cell_type": "code",
      "metadata": {
        "colab": {
          "base_uri": "https://localhost:8080/"
        },
        "id": "eg0TwAY469dZ",
        "outputId": "56eae5a2-199e-4837-dc3a-936dcb52ebaa"
      },
      "source": [
        "%%file textanalysis/textanalysis.py\n",
        "\n",
        "def count_words(filepath, words_list):\n",
        "    with open(filepath) as file:\n",
        "        text = file.read()\n",
        "\n",
        "    n = 0\n",
        "    for word in text.split():\n",
        "        # Count the number of times the words in the list appear\n",
        "        if word.lower() in words_list:\n",
        "            n += 1\n",
        "\n",
        "    return n"
      ],
      "execution_count": null,
      "outputs": [
        {
          "output_type": "stream",
          "text": [
            "Writing textanalysis/textanalysis.py\n"
          ],
          "name": "stdout"
        }
      ]
    },
    {
      "cell_type": "code",
      "metadata": {
        "colab": {
          "base_uri": "https://localhost:8080/"
        },
        "id": "ZOjRW2DO7n4B",
        "outputId": "d3224fc3-a0e0-49a7-cf20-49c6cc6f16fd"
      },
      "source": [
        "# Use your new package to count the number of times the positive words \n",
        "# 'good' or 'great' appear in the file 'hotel-reviews.txt'.\n",
        "\n",
        "# ต้องสร้าง folder ตาม steps ข้างบนก่อน\n",
        "from textanalysis.textanalysis import count_words\n",
        "\n",
        "# Count the number of positive words\n",
        "nb_positive_words = count_words(\"hotel-reviews.txt\", ['good', 'great'])\n",
        "\n",
        "# Count the number of negative words\n",
        "nb_negative_words = count_words(\"hotel-reviews.txt\", ['bad','awful'])\n",
        "\n",
        "print(\"{} positive words.\".format(nb_positive_words))\n",
        "print(\"{} negative words.\".format(nb_negative_words))\n"
      ],
      "execution_count": null,
      "outputs": [
        {
          "output_type": "stream",
          "text": [
            "18816 positive words.\n",
            "1706 negative words.\n"
          ],
          "name": "stdout"
        }
      ]
    },
    {
      "cell_type": "code",
      "metadata": {
        "colab": {
          "base_uri": "https://localhost:8080/"
        },
        "id": "WDrcrFKh-WuY",
        "outputId": "e418b9f1-7b9f-4d92-a3e9-1686df8d4fb9"
      },
      "source": [
        "# Documentation\n",
        "# In the terminal at the bottom of the screen, use pyment to create NumPy style documentation \n",
        "# for the file impyrial/length/core.py.\n",
        "\n",
        "!pip install pyment"
      ],
      "execution_count": null,
      "outputs": [
        {
          "output_type": "stream",
          "text": [
            "Collecting pyment\n",
            "  Downloading https://files.pythonhosted.org/packages/52/01/810e174c28a7dcf5f91c048faf69c84eafee60c9a844e4ce21671b2e99bb/Pyment-0.3.3-py2.py3-none-any.whl\n",
            "Installing collected packages: pyment\n",
            "Successfully installed pyment-0.3.3\n"
          ],
          "name": "stdout"
        }
      ]
    },
    {
      "cell_type": "code",
      "metadata": {
        "colab": {
          "base_uri": "https://localhost:8080/"
        },
        "id": "Z6TIc_fUBse7",
        "outputId": "22418ab3-21d4-4091-b94e-8cee609d6f66"
      },
      "source": [
        "### ต้องสร้าง folders ใหม่ก่อน จึงจะเซฟไฟล์ด้วยคำสั่่งนี้ได้\n",
        "%%file impyrial/length/core.py\n",
        "\n",
        "INCHES_PER_FOOT = 12.0  # 12 inches in a foot\n",
        "INCHES_PER_YARD = INCHES_PER_FOOT * 3.0  # 3 feet in a yard\n",
        "\n",
        "UNITS = (\"in\", \"ft\", \"yd\")\n",
        "\n",
        "\n",
        "def inches_to_feet(x, reverse=False):\n",
        "\n",
        "    if reverse:\n",
        "        return x * INCHES_PER_FOOT\n",
        "    else:\n",
        "        return x / INCHES_PER_FOOT\n"
      ],
      "execution_count": null,
      "outputs": [
        {
          "output_type": "stream",
          "text": [
            "Writing impyrial/length/core.py\n"
          ],
          "name": "stdout"
        }
      ]
    },
    {
      "cell_type": "code",
      "metadata": {
        "id": "eLCuR1ggBsW9"
      },
      "source": [
        "import pyment\n",
        "!pyment -w -o numpydoc impyrial/length/core.py\n",
        "\n",
        "# พอไปเปิดไฟล์ core.py ใหม่ จะหน้าตาเป็นแบบนี้\n",
        "# Using pyment to generate templates means you are more likely to keep to the correct style. \n",
        "\n",
        "INCHES_PER_FOOT = 12.0  # 12 inches in a foot\n",
        "INCHES_PER_YARD = INCHES_PER_FOOT * 3.0  # 3 feet in a yard\n",
        "\n",
        "UNITS = (\"in\", \"ft\", \"yd\")\n",
        "\n",
        "\n",
        "def inches_to_feet(x, reverse=False):\n",
        "    \"\"\"\n",
        "\n",
        "    Parameters\n",
        "    ----------\n",
        "    x :\n",
        "        \n",
        "    reverse :\n",
        "         (Default value = False)\n",
        "\n",
        "    Returns\n",
        "    -------\n",
        "\n",
        "    \"\"\"\n",
        "\n",
        "    if reverse:\n",
        "        return x * INCHES_PER_FOOT\n",
        "    else:\n",
        "        return x / INCHES_PER_FOOT"
      ],
      "execution_count": null,
      "outputs": []
    },
    {
      "cell_type": "code",
      "metadata": {
        "id": "_GV6pX5jCzAx"
      },
      "source": [
        "# ตัวอย่างการเติม Docstring numpy style\n",
        "\n",
        "\n",
        "INCHES_PER_FOOT = 12.0  # 12 inches in a foot\n",
        "INCHES_PER_YARD = INCHES_PER_FOOT * 3.0  # 3 feet in a yard\n",
        "\n",
        "UNITS = (\"in\", \"ft\", \"yd\")\n",
        "\n",
        "\n",
        "def inches_to_feet(x, reverse=False):\n",
        "    \"\"\"Convert lengths between inches and feet.\n",
        "\n",
        "    Parameters\n",
        "    ----------\n",
        "    x : numpy.ndarray\n",
        "        Lengths in feet.\n",
        "\n",
        "    reverse : bool, optional\n",
        "         If true this function converts from \n",
        "         feet to inches instead of the default behavior \n",
        "         of inches to feet. (Default value = False)\n",
        "\n",
        "    Returns\n",
        "    -------\n",
        "    numpy.ndarray\n",
        "    \"\"\"\n",
        "    if reverse:\n",
        "        return x * INCHES_PER_FOOT\n",
        "    else:\n",
        "        return x / INCHES_PER_FOOT\n"
      ],
      "execution_count": null,
      "outputs": []
    },
    {
      "cell_type": "code",
      "metadata": {
        "id": "qlCAlVeA1XzJ"
      },
      "source": [
        "#### สร้าง package structure เริ่มจากด้านล่างนี้ ###"
      ],
      "execution_count": null,
      "outputs": []
    },
    {
      "cell_type": "code",
      "metadata": {
        "id": "e3q4mQQLFEGG"
      },
      "source": [
        "# Package and module documentation\n",
        "\n",
        "# Add the following package level documentation to impyrial:\n",
        "# คือการนำ docstring ด้านล่าง ไปเขียนในไฟล์ /impyrial/__init__.py\n",
        "\n",
        "\"\"\"impyrial\n",
        "========\n",
        "A package for converting between imperial \n",
        "measurements of length and weight.\"\"\"\n",
        "\n",
        "# Add the following subpackage level documentation to impyrial.length:\n",
        "# คือการนำ docstring ด้านล่าง ไปเขียนในไฟล์ /impyrial/length/__init__.py\n",
        "\n",
        "\"\"\"impyrial.length\n",
        "===============\n",
        "Length conversion between imperial units.\"\"\"\n",
        "\n",
        "# Add the following module documentation to impyrial.length.core:\n",
        "# คือการนำ docstring ด้านล่าง ไปเขียนในไฟล์ /impyrial/length/core.py\n",
        "\n",
        "\"\"\"Conversions between inches and \n",
        "larger imperial length units\"\"\""
      ],
      "execution_count": null,
      "outputs": []
    },
    {
      "cell_type": "code",
      "metadata": {
        "colab": {
          "base_uri": "https://localhost:8080/"
        },
        "id": "fTLc3DHqH9Tw",
        "outputId": "b9b90597-d837-47c2-ba00-c20ce599a14a"
      },
      "source": [
        "# ลอกมา โจทย์มีให้อยู่แล้ว \n",
        "# อย่าลืม สร้าง folder เสียก่อน\n",
        "\n",
        "%%file impyrial/utils.py\n",
        "\n",
        "\"\"\"Basic backend utility functions\"\"\"\n",
        "\n",
        "\n",
        "def check_units(from_unit, to_unit, valid_units):\n",
        "    \"\"\"Check whether two units are both in a set.\n",
        "\n",
        "    Parameters\n",
        "    ----------\n",
        "    from_unit : str\n",
        "    to_unit : str\n",
        "    valid_units : array_like of str\n",
        "    \"\"\"\n",
        "    if from_unit not in valid_units:\n",
        "        raise ValueError(f\"Unit {from_unit} not in {valid_units}\")\n",
        "    if to_unit not in valid_units:\n",
        "        raise ValueError(f\"Unit {to_unit} not in {valid_units}\")\n"
      ],
      "execution_count": null,
      "outputs": [
        {
          "output_type": "stream",
          "text": [
            "Writing impyrial/utils.py\n"
          ],
          "name": "stdout"
        }
      ]
    },
    {
      "cell_type": "code",
      "metadata": {
        "colab": {
          "base_uri": "https://localhost:8080/"
        },
        "id": "3WsShqI8sSZA",
        "outputId": "7e18180a-cc4a-46d9-b910-7c3dc0967ef7"
      },
      "source": [
        "# ลอกมา โจทย์มีให้อยู่แล้ว \n",
        "# อย่าลืม สร้าง folder เสียก่อน\n",
        "\n",
        "%%file impyrial/length/core.py\n",
        "\n",
        "\"\"\"Conversions between inches and larger imperial length units\"\"\"\n",
        "INCHES_PER_FOOT = 12.0  # 12 inches in a foot\n",
        "INCHES_PER_YARD = INCHES_PER_FOOT * 3.0  # 3 feet in a yard\n",
        "\n",
        "UNITS = (\"in\", \"ft\", \"yd\")\n",
        "\n",
        "\n",
        "def inches_to_feet(x, reverse=False):\n",
        "    \"\"\"Convert lengths between inches and feet.\n",
        "\n",
        "    Parameters\n",
        "    ----------\n",
        "    x : array_like\n",
        "        Lengths in feet.\n",
        "    reverse : bool, optional\n",
        "        If this is set to true this function converts from feet to inches\n",
        "        instead of the default behaviour of inches to feet.\n",
        "\n",
        "    Returns\n",
        "    -------\n",
        "    ndarray\n",
        "        An array of converted lengths with the same shape as `x`. If `x` is a\n",
        "        0-d array, then a scalar is returned.\n",
        "    \"\"\"\n",
        "    if reverse:\n",
        "        return x * INCHES_PER_FOOT\n",
        "    else:\n",
        "        return x / INCHES_PER_FOOT\n",
        "\n",
        "\n",
        "def inches_to_yards(x, reverse=False):\n",
        "    \"\"\"Convert lengths between inches and yards.\n",
        "\n",
        "    Parameters\n",
        "    ----------\n",
        "    x : array_like\n",
        "        Lengths in feet.\n",
        "    reverse : bool, optional\n",
        "        If this is set to true this function converts from yards to inches\n",
        "        instead of the default behaviour of inches to yards.\n",
        "\n",
        "    Returns\n",
        "    -------\n",
        "    ndarray\n",
        "        An array of converted lengths with the same shape as `x`. If `x` is a\n",
        "        0-d array, then a scalar is returned.\n",
        "    \"\"\"\n",
        "    if reverse:\n",
        "        return x * INCHES_PER_YARD\n",
        "    else:\n",
        "        return x / INCHES_PER_YARD\n",
        "\n"
      ],
      "execution_count": null,
      "outputs": [
        {
          "output_type": "stream",
          "text": [
            "Writing impyrial/length/core.py\n"
          ],
          "name": "stdout"
        }
      ]
    },
    {
      "cell_type": "code",
      "metadata": {
        "colab": {
          "base_uri": "https://localhost:8080/"
        },
        "id": "hmd1SHUmpJK7",
        "outputId": "b9421da7-b28b-4756-a4bb-8c6ec08854b9"
      },
      "source": [
        "# Import the functions inches_to_feet() and inches_to_yards(), \n",
        "# and the variable UNITS from the impyrial/length/core.py module into impyrial/length/api.py. \n",
        "# Use an absolute import.\n",
        "\n",
        "\n",
        "%%file impyrial/length/api.py\n",
        "\n",
        "\n",
        "\"\"\"User-facing functions.\"\"\"\n",
        "from impyrial.length.core import (\n",
        "    inches_to_feet,\n",
        "    inches_to_yards,\n",
        "    UNITS\n",
        ")\n",
        "\n",
        "\n",
        "def convert_unit(x, from_unit, to_unit):\n",
        "    \"\"\"Convert from one length unit to another.\n",
        "\n",
        "    Parameters\n",
        "    ----------\n",
        "    x : array_like\n",
        "        Lengths to convert.\n",
        "    from_unit : {'in', 'ft', 'yd'}\n",
        "        Unit of the input lengths `x`\n",
        "    to_unit : {'in', 'ft', 'yd'}\n",
        "        Unit of the returned lengths\n",
        "\n",
        "    Returns\n",
        "    -------\n",
        "    ndarray\n",
        "        An array of converted lengths with the same shape as `x`. If `x` is a\n",
        "        0-d array, then a scalar is returned.\n",
        "    \"\"\"\n",
        "    # Convert length to inches\n",
        "    if from_unit == \"in\":\n",
        "        inches = x\n",
        "    elif from_unit == \"ft\":\n",
        "        inches = inches_to_feet(x, reverse=True)\n",
        "    elif from_unit == \"yd\":\n",
        "        inches = inches_to_yards(x, reverse=True)\n",
        "\n",
        "    # Convert inches to desired units\n",
        "    if to_unit == \"in\":\n",
        "        value = inches\n",
        "    elif to_unit == \"ft\":\n",
        "        value = inches_to_feet(inches)\n",
        "    elif to_unit == \"yd\":\n",
        "        value = inches_to_yards(inches)\n",
        "\n",
        "    return value"
      ],
      "execution_count": null,
      "outputs": [
        {
          "output_type": "stream",
          "text": [
            "Writing impyrial/length/api.py\n"
          ],
          "name": "stdout"
        }
      ]
    },
    {
      "cell_type": "code",
      "metadata": {
        "colab": {
          "base_uri": "https://localhost:8080/"
        },
        "id": "MzkjfZeBrLzi",
        "outputId": "8f86b4c5-a528-48f6-ce00-032ede9f6ade"
      },
      "source": [
        "# Import the function convert_unit() function in impyrial/length/api.py \n",
        "# into the example_script.py script. \n",
        "# You'll need to import this using the full filepath to the api module.\n",
        "\n",
        "# ตรงนี้ example_script.py เป็นไฟล์ที่อยู่ในระดับเดียวกันกับ folder impyrial\n",
        "\n",
        "from impyrial.length.api import convert_unit\n",
        "\n",
        "result = convert_unit(10, 'in', 'yd')\n",
        "print(result)\n"
      ],
      "execution_count": null,
      "outputs": [
        {
          "output_type": "stream",
          "text": [
            "0.2777777777777778\n"
          ],
          "name": "stdout"
        }
      ]
    },
    {
      "cell_type": "code",
      "metadata": {
        "colab": {
          "base_uri": "https://localhost:8080/"
        },
        "id": "vpkL9hf0s0BO",
        "outputId": "2832dccf-460c-44d5-ad10-128b556f738a"
      },
      "source": [
        "# Import the function check_units() from the impyrial/utils.py module \n",
        "# into impyrial/length/api.py. Use an absolute import.\n",
        "%%file impyrial/length/api.py\n",
        "\n",
        "\"\"\"User-facing functions.\"\"\"\n",
        "# Import the check_units function\n",
        "from impyrial.utils import check_units \n",
        "from impyrial.length.core import (\n",
        "    UNITS,\n",
        "    inches_to_feet,\n",
        "    inches_to_yards,\n",
        ")\n",
        "\n",
        "\n",
        "def convert_unit(x, from_unit, to_unit):\n",
        "    \"\"\"Convert from one length unit to another.\n",
        "\n",
        "    Parameters\n",
        "    ----------\n",
        "    x : array_like\n",
        "        Lengths to convert.\n",
        "    from_unit : {'in', 'ft', 'yd'}\n",
        "        Unit of the input lengths `x`\n",
        "    to_unit : {'in', 'ft', 'yd'}\n",
        "        Unit of the returned lengths\n",
        "\n",
        "    Returns\n",
        "    -------\n",
        "    ndarray\n",
        "        An array of converted lengths with the same shape as `x`. If `x` is a\n",
        "        0-d array, then a scalar is returned.\n",
        "    \"\"\"\n",
        "    # Check if units are valid length units\n",
        "    check_units(from_unit, to_unit, UNITS)\n",
        "    \n",
        "    # convert length to inches\n",
        "    if from_unit == \"in\":\n",
        "        inches = x\n",
        "    elif from_unit == \"ft\":\n",
        "        inches = inches_to_feet(x, reverse=True)\n",
        "    elif from_unit == \"yd\":\n",
        "        inches = inches_to_yards(x, reverse=True)\n",
        "\n",
        "    # Convert inches to desired units\n",
        "    if to_unit == \"in\":\n",
        "        value = inches\n",
        "    elif to_unit == \"ft\":\n",
        "        value = inches_to_feet(inches)\n",
        "    elif to_unit == \"yd\":\n",
        "        value = inches_to_yards(inches)\n",
        "\n",
        "    return value\n"
      ],
      "execution_count": null,
      "outputs": [
        {
          "output_type": "stream",
          "text": [
            "Writing impyrial/length/api.py\n"
          ],
          "name": "stdout"
        }
      ]
    },
    {
      "cell_type": "code",
      "metadata": {
        "colab": {
          "base_uri": "https://localhost:8080/",
          "height": 407
        },
        "id": "6-1aE0n5u1vy",
        "outputId": "f6985e89-b62c-4201-ee64-2754146c20ef"
      },
      "source": [
        "# Run example_script.py to make sure the check_units() function is working.\n",
        "\n",
        "from impyrial.length.api import convert_unit\n",
        "\n",
        "# Make sure unit checking is working by trying examples\n",
        "print('The following line should run:')\n",
        "result1 = convert_unit(10, 'in', 'yd')\n",
        "print(result1)\n",
        "\n",
        "print('The following line should cause an error:')\n",
        "result2 = convert_unit(10, 'lb', 'yd')\n",
        "print(result2) # มัน error เพราะในฟ้งก์ชัน convert_unit ไม่ได้ใส่ 'lb' ไว้เป็นส่วนหนึ่งของ input"
      ],
      "execution_count": null,
      "outputs": [
        {
          "output_type": "stream",
          "text": [
            "The following line should run:\n",
            "0.2777777777777778\n",
            "The following line should cause an error:\n"
          ],
          "name": "stdout"
        },
        {
          "output_type": "error",
          "ename": "UnboundLocalError",
          "evalue": "ignored",
          "traceback": [
            "\u001b[0;31m---------------------------------------------------------------------------\u001b[0m",
            "\u001b[0;31mUnboundLocalError\u001b[0m                         Traceback (most recent call last)",
            "\u001b[0;32m<ipython-input-8-9518feb27114>\u001b[0m in \u001b[0;36m<module>\u001b[0;34m()\u001b[0m\n\u001b[1;32m      7\u001b[0m \u001b[0;34m\u001b[0m\u001b[0m\n\u001b[1;32m      8\u001b[0m \u001b[0mprint\u001b[0m\u001b[0;34m(\u001b[0m\u001b[0;34m'The following line should cause an error:'\u001b[0m\u001b[0;34m)\u001b[0m\u001b[0;34m\u001b[0m\u001b[0;34m\u001b[0m\u001b[0m\n\u001b[0;32m----> 9\u001b[0;31m \u001b[0mresult2\u001b[0m \u001b[0;34m=\u001b[0m \u001b[0mconvert_unit\u001b[0m\u001b[0;34m(\u001b[0m\u001b[0;36m10\u001b[0m\u001b[0;34m,\u001b[0m \u001b[0;34m'lb'\u001b[0m\u001b[0;34m,\u001b[0m \u001b[0;34m'yd'\u001b[0m\u001b[0;34m)\u001b[0m\u001b[0;34m\u001b[0m\u001b[0;34m\u001b[0m\u001b[0m\n\u001b[0m\u001b[1;32m     10\u001b[0m \u001b[0mprint\u001b[0m\u001b[0;34m(\u001b[0m\u001b[0mresult2\u001b[0m\u001b[0;34m)\u001b[0m\u001b[0;34m\u001b[0m\u001b[0;34m\u001b[0m\u001b[0m\n",
            "\u001b[0;32m/content/impyrial/length/api.py\u001b[0m in \u001b[0;36mconvert_unit\u001b[0;34m(x, from_unit, to_unit)\u001b[0m\n\u001b[1;32m     41\u001b[0m     \u001b[0;31m# Convert inches to desired units\u001b[0m\u001b[0;34m\u001b[0m\u001b[0;34m\u001b[0m\u001b[0;34m\u001b[0m\u001b[0m\n\u001b[1;32m     42\u001b[0m     \u001b[0;32mif\u001b[0m \u001b[0mto_unit\u001b[0m \u001b[0;34m==\u001b[0m \u001b[0;34m\"in\"\u001b[0m\u001b[0;34m:\u001b[0m\u001b[0;34m\u001b[0m\u001b[0;34m\u001b[0m\u001b[0m\n\u001b[0;32m---> 43\u001b[0;31m         \u001b[0mvalue\u001b[0m \u001b[0;34m=\u001b[0m \u001b[0minches\u001b[0m\u001b[0;34m\u001b[0m\u001b[0;34m\u001b[0m\u001b[0m\n\u001b[0m\u001b[1;32m     44\u001b[0m     \u001b[0;32melif\u001b[0m \u001b[0mto_unit\u001b[0m \u001b[0;34m==\u001b[0m \u001b[0;34m\"ft\"\u001b[0m\u001b[0;34m:\u001b[0m\u001b[0;34m\u001b[0m\u001b[0;34m\u001b[0m\u001b[0m\n\u001b[1;32m     45\u001b[0m         \u001b[0mvalue\u001b[0m \u001b[0;34m=\u001b[0m \u001b[0minches_to_feet\u001b[0m\u001b[0;34m(\u001b[0m\u001b[0minches\u001b[0m\u001b[0;34m)\u001b[0m\u001b[0;34m\u001b[0m\u001b[0;34m\u001b[0m\u001b[0m\n",
            "\u001b[0;31mUnboundLocalError\u001b[0m: local variable 'inches' referenced before assignment"
          ]
        }
      ]
    },
    {
      "cell_type": "code",
      "metadata": {
        "colab": {
          "base_uri": "https://localhost:8080/"
        },
        "id": "vIuqYRfku7RJ",
        "outputId": "8cb2c61c-ac03-4998-8700-6a0ee02fe9fb"
      },
      "source": [
        "# In the __init__.py file within impyrial/length, \n",
        "# import the convert_unit() function from the api.py module. \n",
        "# Use a relative import.\n",
        "\n",
        "%%file impyrial/length/__init__.py\n",
        "\n",
        "\"\"\"impyrial.length\n",
        "===============\n",
        "Length conversion between imperial units.\"\"\"\n",
        "\n",
        "# This is the __init__.py file for the impyrial/length subpackage\n",
        "\n",
        "# Import the convert_unit function from the api.py module\n",
        "from .api import convert_unit"
      ],
      "execution_count": null,
      "outputs": [
        {
          "output_type": "stream",
          "text": [
            "Writing impyrial/length/__init__.py\n"
          ],
          "name": "stdout"
        }
      ]
    },
    {
      "cell_type": "code",
      "metadata": {
        "colab": {
          "base_uri": "https://localhost:8080/"
        },
        "id": "yL5LUaxBw63x",
        "outputId": "728808c5-49f7-4a38-d278-b616d9cf73c1"
      },
      "source": [
        "# Navigate to the __init__.py file in the top level of the impyrial package \n",
        "# and import the length subpackage. Use a relative import.\n",
        "\n",
        "%%file impyrial/__init__.py\n",
        "\n",
        "\n",
        "\"\"\"impyrial\n",
        "========\n",
        "A package for converting between imperial \n",
        "measurements of length and weight.\"\"\"\n",
        "\n",
        "# This is the top level __init__.py file\n",
        "\n",
        "# Import the length subpackage\n",
        "from . import length"
      ],
      "execution_count": null,
      "outputs": [
        {
          "output_type": "stream",
          "text": [
            "Writing impyrial/__init__.py\n"
          ],
          "name": "stdout"
        }
      ]
    },
    {
      "cell_type": "code",
      "metadata": {
        "colab": {
          "base_uri": "https://localhost:8080/"
        },
        "id": "aGjZac0oxPXC",
        "outputId": "03947f88-aeb9-40bb-f6cd-586540fc0c68"
      },
      "source": [
        "# ต้องรันสองช่องข้างบน สร้าง folders และไฟล์ต่างๆให้เสร็จสรรพเสียก่อนจึงจะรันได้\n",
        "# ถ้ารันไม่ได้ ลอง restart runtime ใน colab ดู อาจมี cache หลงเหลือ หรือต้อง initalize __init__.py ใหม่\n",
        "\n",
        "import impyrial.length\n",
        "\n",
        "result = impyrial.length.convert_unit(10, 'in', 'yd')\n",
        "print(result)\n",
        "result = impyrial.length.convert_unit(6, 'ft', 'yd')\n",
        "print(result)"
      ],
      "execution_count": null,
      "outputs": [
        {
          "output_type": "stream",
          "text": [
            "0.2777777777777778\n",
            "2.0\n"
          ],
          "name": "stdout"
        }
      ]
    },
    {
      "cell_type": "code",
      "metadata": {
        "id": "1cUtN2TCyKA4"
      },
      "source": [
        "# ถ้าจะ install package ต้องเขียน setup.py และต้องเปลี่ยนโครงสร้าง directory ใหม่หมด \n",
        "# ขั้นตอนแบบด้านบน จะ import package ได้เฉพาะเวลาที่ __main__ อยู่ใน directory เดียวกันกับ package เท่านั้น\n",
        "\n",
        "# Folders ที่สร้างมาแล้วจะ delete ไม่ได้ถ้ามีไฟล์อยู่ ให้ใช้คำสั่งด้านล่างนี้\n",
        "# ถ้าใช้ colab จะมี folder __pycache__ ซ่อนอยู่ ต้องใช้คำสั่งด้านล่างนี้ในการลบไฟล์ซ่อนจากโฟลเดอร์เหล่านี้\n",
        "!find . | grep -E \"(__pycache__|\\.pyc|\\.pyo$)\" | xargs rm -rf\n",
        "\n",
        "# อย่าลืมลบไฟล์อื่นๆ พวก __init__.py, core.py, api.py, utils.py"
      ],
      "execution_count": null,
      "outputs": []
    },
    {
      "cell_type": "code",
      "metadata": {
        "colab": {
          "base_uri": "https://localhost:8080/"
        },
        "id": "ALWcfDlbzom8",
        "outputId": "5f0884e0-6eb9-413e-d54c-18f1ac3e94ab"
      },
      "source": [
        "# copy เค้ามาก่อน\n",
        "# สร้าง structure ใหม่ตามไฟล์รูป\n",
        "%%file mypackages/impyrial/impyrial/__init__.py\n",
        "\n",
        "__doc__ = \"\"\"\n",
        "impyrial\n",
        "========\n",
        "A package for converting between imperial measurments of length and weight.\n",
        "\"\"\"\n",
        "\n",
        "__author__ = \"\"\"James Fulton\"\"\"\n",
        "__version__ = \"0.1.0\"\n",
        "\n",
        "from . import length  # noqa : F401\n",
        "from . import weight  # noqa : F401\n"
      ],
      "execution_count": null,
      "outputs": [
        {
          "output_type": "stream",
          "text": [
            "Writing mypackages/impyrial/impyrial/__init__.py\n"
          ],
          "name": "stdout"
        }
      ]
    },
    {
      "cell_type": "code",
      "metadata": {
        "colab": {
          "base_uri": "https://localhost:8080/"
        },
        "id": "MwMQXs8jVCC5",
        "outputId": "7efda082-efba-488b-8e79-df86bdec7768"
      },
      "source": [
        "# โจทย์\n",
        "\n",
        "%%file mypackages/impyrial/setup.py\n",
        "\n",
        "# Import required functions\n",
        "from setuptools import setup, find_packages\n",
        "\n",
        "# Call setup function\n",
        "setup(\n",
        "    author=\"<your-name>\",\n",
        "    description=\"A package for converting imperial lengths and weights.\",\n",
        "    name=\"impyrial\",\n",
        "    packages=find_packages(include=[\"impyrial\", \"impyrial.*\"]),\n",
        "    version=\"0.1.0\",\n",
        ")\n"
      ],
      "execution_count": null,
      "outputs": [
        {
          "output_type": "stream",
          "text": [
            "Writing mypackages/impyrial/setup.py\n"
          ],
          "name": "stdout"
        }
      ]
    },
    {
      "cell_type": "code",
      "metadata": {
        "colab": {
          "base_uri": "https://localhost:8080/"
        },
        "id": "iCzCC0-NVDhF",
        "outputId": "7a1d47d2-c7e8-496b-a28b-cf6907751fa3"
      },
      "source": [
        "# ลอกมา\n",
        "\n",
        "%%file mypackages/impyrial/impyrial/utils.py\n",
        "\n",
        "\"\"\"Basic backend utility functions\"\"\"\n",
        "\n",
        "\n",
        "def check_units(from_unit, to_unit, valid_units):\n",
        "    \"\"\"Check whether two units are both in a set.\n",
        "\n",
        "    Parameters\n",
        "    ----------\n",
        "    from_unit : str\n",
        "    to_unit : str\n",
        "    valid_units : array_like of str\n",
        "    \"\"\"\n",
        "    if from_unit not in valid_units:\n",
        "        raise ValueError(f\"Unit {from_unit} not in {valid_units}\")\n",
        "    if to_unit not in valid_units:\n",
        "        raise ValueError(f\"Unit {to_unit} not in {valid_units}\")\n"
      ],
      "execution_count": null,
      "outputs": [
        {
          "output_type": "stream",
          "text": [
            "Writing mypackages/impyrial/impyrial/utils.py\n"
          ],
          "name": "stdout"
        }
      ]
    },
    {
      "cell_type": "code",
      "metadata": {
        "colab": {
          "base_uri": "https://localhost:8080/"
        },
        "id": "6EQIGf12VqJk",
        "outputId": "ae2ead2c-89db-4463-eaa1-c49860e6dbbc"
      },
      "source": [
        "# ลอกมา อย่าลืมสร้าง folder length เสียก่อน\n",
        "\n",
        "%%file mypackages/impyrial/impyrial/length/__init__.py\n",
        "\n",
        "__doc__ = \"\"\"\n",
        "impyrial.length\n",
        "===============\n",
        "Length conversion between imperial units.\n",
        "\"\"\"\n",
        "from .api import convert_unit  # noqa : F401\n"
      ],
      "execution_count": null,
      "outputs": [
        {
          "output_type": "stream",
          "text": [
            "Writing mypackages/impyrial/impyrial/length/__init__.py\n"
          ],
          "name": "stdout"
        }
      ]
    },
    {
      "cell_type": "code",
      "metadata": {
        "colab": {
          "base_uri": "https://localhost:8080/"
        },
        "id": "qGArvK3eWiqP",
        "outputId": "faa28cf6-6a94-4ae5-d57c-57a0a7997167"
      },
      "source": [
        "# ลอกมา อย่าลืมสร้าง folder length เสียก่อน\n",
        "\n",
        "%%file mypackages/impyrial/impyrial/length/api.py\n",
        "\"\"\"User-facing functions.\"\"\"\n",
        "import numpy as np\n",
        "from impyrial.utils import check_units\n",
        "from impyrial.length.core import (\n",
        "    UNITS,\n",
        "    inches_to_feet,\n",
        "    inches_to_yards,\n",
        ")\n",
        "\n",
        "\n",
        "def convert_unit(x, from_unit, to_unit):\n",
        "    \"\"\"Convert from one length unit to another.\n",
        "\n",
        "    Parameters\n",
        "    ----------\n",
        "    x : array_like\n",
        "        Lengths to convert.\n",
        "    from_unit : {'in', 'ft', 'yd'}\n",
        "        Unit of the input lengths `x`\n",
        "    to_unit : {'in', 'ft', 'yd'}\n",
        "        Unit of the returned lengths\n",
        "\n",
        "    Returns\n",
        "    -------\n",
        "    ndarray\n",
        "        An array of converted lengths with the same shape as `x`. If `x` is a\n",
        "        0-d array, then a scalar is returned.\n",
        "    \"\"\"\n",
        "    # check if units are valid length units\n",
        "    check_units(from_unit, to_unit, UNITS)\n",
        "\n",
        "    # convert length to inches\n",
        "    if from_unit == \"in\":\n",
        "        inches = x\n",
        "    elif from_unit == \"ft\":\n",
        "        inches = inches_to_feet(x, reverse=True)\n",
        "    elif from_unit == \"yd\":\n",
        "        inches = inches_to_yards(x, reverse=True)\n",
        "\n",
        "    # convert inches to desired units\n",
        "    if to_unit == \"in\":\n",
        "        value = inches\n",
        "    elif to_unit == \"ft\":\n",
        "        value = inches_to_feet(inches)\n",
        "    elif to_unit == \"yd\":\n",
        "        value = inches_to_yards(inches)\n",
        "\n",
        "    return value\n",
        "\n",
        "\n"
      ],
      "execution_count": null,
      "outputs": [
        {
          "output_type": "stream",
          "text": [
            "Writing mypackages/impyrial/impyrial/length/api.py\n"
          ],
          "name": "stdout"
        }
      ]
    },
    {
      "cell_type": "code",
      "metadata": {
        "colab": {
          "base_uri": "https://localhost:8080/"
        },
        "id": "1vvsd3VzZCXQ",
        "outputId": "fea8af35-d25f-46cd-dcbe-16b709875dbf"
      },
      "source": [
        "# ลอกมา อย่าลืมสร้าง folder length เสียก่อน\n",
        "\n",
        "%%file mypackages/impyrial/impyrial/length/core.py\n",
        "\n",
        "\"\"\"Conversions between inches and larger imperial length units\"\"\"\n",
        "INCHES_PER_FOOT = 12.0  # 12 inches in a foot\n",
        "INCHES_PER_YARD = INCHES_PER_FOOT * 3.0  # 3 feet in a yard\n",
        "\n",
        "UNITS = (\"in\", \"ft\", \"yd\")\n",
        "\n",
        "\n",
        "def inches_to_feet(x, reverse=False):\n",
        "    \"\"\"Convert lengths between inches and feet.\n",
        "\n",
        "    Parameters\n",
        "    ----------\n",
        "    x : array_like\n",
        "        Lengths in feet.\n",
        "    reverse : bool, optional\n",
        "        If this is set to true this function converts from feet to inches\n",
        "        instead of the default behaviour of inches to feet.\n",
        "\n",
        "    Returns\n",
        "    -------\n",
        "    ndarray\n",
        "        An array of converted lengths with the same shape as `x`. If `x` is a\n",
        "        0-d array, then a scalar is returned.\n",
        "    \"\"\"\n",
        "    if reverse:\n",
        "        return x * INCHES_PER_FOOT\n",
        "    else:\n",
        "        return x / INCHES_PER_FOOT\n",
        "\n",
        "\n",
        "def inches_to_yards(x, reverse=False):\n",
        "    \"\"\"Convert lengths between inches and yards.\n",
        "\n",
        "    Parameters\n",
        "    ----------\n",
        "    x : array_like\n",
        "        Lengths in feet.\n",
        "    reverse : bool, optional\n",
        "        If this is set to true this function converts from yards to inches\n",
        "        instead of the default behaviour of inches to yards.\n",
        "\n",
        "    Returns\n",
        "    -------\n",
        "    ndarray\n",
        "        An array of converted lengths with the same shape as `x`. If `x` is a\n",
        "        0-d array, then a scalar is returned.\n",
        "    \"\"\"\n",
        "    if reverse:\n",
        "        return x * INCHES_PER_YARD\n",
        "    else:\n",
        "        return x / INCHES_PER_YARD\n",
        "\n"
      ],
      "execution_count": null,
      "outputs": [
        {
          "output_type": "stream",
          "text": [
            "Writing mypackages/impyrial/impyrial/length/core.py\n"
          ],
          "name": "stdout"
        }
      ]
    },
    {
      "cell_type": "code",
      "metadata": {
        "colab": {
          "base_uri": "https://localhost:8080/"
        },
        "id": "UTtRZjTpZXm6",
        "outputId": "c0be2860-92e7-4bc5-f2aa-f08d49c8a3b1"
      },
      "source": [
        "# ลอกมา อย่าลืมสร้าง folder weight เสียก่อน\n",
        "\n",
        "%%file mypackages/impyrial/impyrial/weight/__init__.py\n",
        "\n",
        "__doc__ = \"\"\"\n",
        "impyrial.weight\n",
        "===============\n",
        "Weight conversion between imperial units.\n",
        "\"\"\"\n",
        "from .api import convert_unit  # noqa : F401\n"
      ],
      "execution_count": null,
      "outputs": [
        {
          "output_type": "stream",
          "text": [
            "Writing mypackages/impyrial/impyrial/weight/__init__.py\n"
          ],
          "name": "stdout"
        }
      ]
    },
    {
      "cell_type": "code",
      "metadata": {
        "colab": {
          "base_uri": "https://localhost:8080/"
        },
        "id": "f30kydvrZVAP",
        "outputId": "2a49c747-3419-4e5e-e2ce-3180ed7dba68"
      },
      "source": [
        "# ลอกมา อย่าลืมสร้าง folder weight เสียก่อน\n",
        "\n",
        "%%file mypackages/impyrial/impyrial/weight/api.py\n",
        "\n",
        "\"\"\"User-facing functions.\"\"\"\n",
        "import numpy as np\n",
        "from impyrial.utils import check_units\n",
        "from impyrial.weight.core import (\n",
        "    UNITS,\n",
        "    ounces_to_pounds,\n",
        "    ounces_to_stone,\n",
        ")\n",
        "\n",
        "\n",
        "def convert_unit(x, from_unit, to_unit):\n",
        "    \"\"\"Convert from one weight unit to another.\n",
        "\n",
        "    Parameters\n",
        "    ----------\n",
        "    x : array_like\n",
        "        Weights to convert\n",
        "    from_unit : {'oz', 'lb', 'st'}\n",
        "        Unit of the input weights `x`\n",
        "    to_unit : {'oz', 'lb', 'st'}\n",
        "        Unit of the returned weights\n",
        "\n",
        "    Returns\n",
        "    -------\n",
        "    ndarray\n",
        "        An array of converted weights with the same shape as `x`. If `x` is a\n",
        "        0-d array, then a scalar is returned.\n",
        "    \"\"\"\n",
        "    # check if units are valid weight units\n",
        "    check_units(from_unit, to_unit, UNITS)\n",
        "\n",
        "    # convert weight to ounces\n",
        "    if from_unit == \"oz\":\n",
        "        ounces = x\n",
        "    elif from_unit == \"lb\":\n",
        "        ounces = ounces_to_pounds(x, reverse=True)\n",
        "    elif from_unit == \"st\":\n",
        "        ounces = ounces_to_stone(x, reverse=True)\n",
        "\n",
        "    # convert ounces to desired units\n",
        "    if to_unit == \"oz\":\n",
        "        value = ounces\n",
        "    elif to_unit == \"lb\":\n",
        "        value = ounces_to_pounds(ounces)\n",
        "    elif to_unit == \"st\":\n",
        "        value = ounces_to_stone(ounces)\n",
        "\n",
        "    return value\n",
        "\n",
        "\n"
      ],
      "execution_count": null,
      "outputs": [
        {
          "output_type": "stream",
          "text": [
            "Writing mypackages/impyrial/impyrial/weight/api.py\n"
          ],
          "name": "stdout"
        }
      ]
    },
    {
      "cell_type": "code",
      "metadata": {
        "colab": {
          "base_uri": "https://localhost:8080/"
        },
        "id": "KzjFFLiwZ8BM",
        "outputId": "1c565149-3b90-4096-f51d-c7d471d75bf8"
      },
      "source": [
        "# ลอกมา อย่าลืมสร้าง folder weight เสียก่อน\n",
        "\n",
        "\n",
        "%%file mypackages/impyrial/impyrial/weight/core.py\n",
        "\n",
        "\"\"\"Conversions between ounces and larger imperial weight units\"\"\"\n",
        "OUNCES_PER_POUND = 16.0  # 16 ounces in a pound\n",
        "OUNCES_PER_STONE = OUNCES_PER_POUND * 14.0  # 14 pounds in a stone\n",
        "\n",
        "UNITS = (\"oz\", \"lb\", \"st\")\n",
        "\n",
        "\n",
        "def ounces_to_pounds(x, reverse=False):\n",
        "    \"\"\"Convert weights between ounces and pounds.\n",
        "\n",
        "    Parameters\n",
        "    ----------\n",
        "    x : array_like\n",
        "        Weights in pounds.\n",
        "    reverse : bool, optional\n",
        "        If this is set to true this function converts from pounds to ounces\n",
        "        instead of the default behaviour of ounces to pounds.\n",
        "\n",
        "    Returns\n",
        "    -------\n",
        "    ndarray\n",
        "        An array of converted weights with the same shape as `x`. If `x` is a\n",
        "        0-d array, then a scalar is returned.\n",
        "    \"\"\"\n",
        "    if reverse:\n",
        "        return x * OUNCES_PER_POUND\n",
        "    else:\n",
        "        return x / OUNCES_PER_POUND\n",
        "\n",
        "\n",
        "def ounces_to_stone(x, reverse=False):\n",
        "    \"\"\"Convert weights between ounces and stone.\n",
        "\n",
        "    Parameters\n",
        "    ----------\n",
        "    x : array_like\n",
        "        Weights in stone.\n",
        "    reverse : bool, optional\n",
        "        If this is set to true this function converts from stone to ounces\n",
        "        instead of the default behaviour of ounces to stone.\n",
        "\n",
        "    Returns\n",
        "    -------\n",
        "    ndarray\n",
        "        An array of converted weights with the same shape as `x`. If `x` is a\n",
        "        0-d array, then a scalar is returned.\n",
        "    \"\"\"\n",
        "    if reverse:\n",
        "        return x * OUNCES_PER_STONE\n",
        "    else:\n",
        "        return x / OUNCES_PER_STONE\n"
      ],
      "execution_count": null,
      "outputs": [
        {
          "output_type": "stream",
          "text": [
            "Writing mypackages/impyrial/impyrial/weight/core.py\n"
          ],
          "name": "stdout"
        }
      ]
    },
    {
      "cell_type": "code",
      "metadata": {
        "colab": {
          "base_uri": "https://localhost:8080/"
        },
        "id": "O0Z4RHkwaO1L",
        "outputId": "3486b629-fd14-4580-f34c-cf7aa89994e1"
      },
      "source": [
        "# Using the terminal, install the package in editable mode using pip.\n",
        "# ต้องรันในโฟลเดอร์ที่มี setup.py เท่านั้น\n",
        "# ดังนั้น ต้องเปลี่ยน pwd ก่อน โดยใช้คำสั่ง\n",
        "import os\n",
        "os.chdir('/content/mypackages/impyrial')\n",
        "!pwd"
      ],
      "execution_count": null,
      "outputs": [
        {
          "output_type": "stream",
          "text": [
            "/content/mypackages/impyrial\n"
          ],
          "name": "stdout"
        }
      ]
    },
    {
      "cell_type": "code",
      "metadata": {
        "id": "B7DZn6Ktcz9i",
        "colab": {
          "base_uri": "https://localhost:8080/"
        },
        "outputId": "1642784d-4cb7-4aa0-9ce5-b46d22b47335"
      },
      "source": [
        "# Using the terminal, install the package in editable mode using pip.\n",
        "# pwd จะต้องเป็น /content/mypackages/impyrial\n",
        "!pip install -e ."
      ],
      "execution_count": null,
      "outputs": [
        {
          "output_type": "stream",
          "text": [
            "Obtaining file:///content/mypackages/impyrial\n",
            "Requirement already satisfied: numpy>=1.10 in /usr/local/lib/python3.7/dist-packages (from impyrial==0.1.0) (1.19.5)\n",
            "Requirement already satisfied: pandas in /usr/local/lib/python3.7/dist-packages (from impyrial==0.1.0) (1.1.5)\n",
            "Requirement already satisfied: pytz>=2017.2 in /usr/local/lib/python3.7/dist-packages (from pandas->impyrial==0.1.0) (2018.9)\n",
            "Requirement already satisfied: python-dateutil>=2.7.3 in /usr/local/lib/python3.7/dist-packages (from pandas->impyrial==0.1.0) (2.8.1)\n",
            "Requirement already satisfied: six>=1.5 in /usr/local/lib/python3.7/dist-packages (from python-dateutil>=2.7.3->pandas->impyrial==0.1.0) (1.15.0)\n",
            "Installing collected packages: impyrial\n",
            "  Running setup.py develop for impyrial\n",
            "Successfully installed impyrial\n"
          ],
          "name": "stdout"
        }
      ]
    },
    {
      "cell_type": "code",
      "metadata": {
        "colab": {
          "base_uri": "https://localhost:8080/"
        },
        "id": "UNfZ_a_LdLrx",
        "outputId": "76f0c71f-6437-4531-cecf-166f3677170c"
      },
      "source": [
        "# เปลี่ยน pwd มาให้เป็น level เดิม เดียวกันกับ my packages\n",
        "\n",
        "os.chdir('/content/')\n",
        "!pwd"
      ],
      "execution_count": null,
      "outputs": [
        {
          "output_type": "stream",
          "text": [
            "/content\n"
          ],
          "name": "stdout"
        }
      ]
    },
    {
      "cell_type": "code",
      "metadata": {
        "colab": {
          "base_uri": "https://localhost:8080/"
        },
        "id": "RCncbpiFtJVL",
        "outputId": "182a9619-9391-4674-fc7f-4ec3bcb90957"
      },
      "source": [
        "%whos"
      ],
      "execution_count": null,
      "outputs": [
        {
          "output_type": "stream",
          "text": [
            "Variable   Type      Data/Info\n",
            "------------------------------\n",
            "impyrial   module    <module 'impyrial' from '<...>al/impyrial/__init__.py'>\n"
          ],
          "name": "stdout"
        }
      ]
    },
    {
      "cell_type": "code",
      "metadata": {
        "id": "YmA9M81mgRRn",
        "colab": {
          "base_uri": "https://localhost:8080/"
        },
        "outputId": "346b9f0a-c0d6-4154-b623-d1fba85970da"
      },
      "source": [
        "# example_script.py ในโจทย์ถูกรันจาก level content\n",
        "\n",
        "import impyrial\n",
        "\n",
        "result = impyrial.length.convert_unit(10, 'in', 'yd')\n",
        "print(result)"
      ],
      "execution_count": null,
      "outputs": [
        {
          "output_type": "stream",
          "text": [
            "0.2777777777777778\n"
          ],
          "name": "stdout"
        }
      ]
    },
    {
      "cell_type": "code",
      "metadata": {
        "colab": {
          "base_uri": "https://localhost:8080/"
        },
        "id": "a0PuFnPBF8dy",
        "outputId": "49f3a838-3a02-4e1e-9a11-feaf235e8c8d"
      },
      "source": [
        "# example_script.py ในโจทย์ถูกรันจาก level content\n",
        "# ข้อนี้ ไม่มีอะไร โจทย์ให้ไปแก้ในไฟล์ ./weight/core.py โดยจงใจเขียนให้ผิด\n",
        "# ด้านล่างนี้ถูกต้องแล้ว แค่จะแสดงว่า ถ้า pip install -e . แล้ว เมื่อเราแก้ไขไฟล์ bug ก็จะถูกแก้ไปด้วย\n",
        "\n",
        "import impyrial\n",
        "\n",
        "result = impyrial.weight.convert_unit(2, 'lb', 'oz')\n",
        "print(result)"
      ],
      "execution_count": null,
      "outputs": [
        {
          "output_type": "stream",
          "text": [
            "32.0\n"
          ],
          "name": "stdout"
        }
      ]
    },
    {
      "cell_type": "code",
      "metadata": {
        "colab": {
          "base_uri": "https://localhost:8080/"
        },
        "id": "pk9SV3tlF-K-",
        "outputId": "c7aa88dc-68f4-4d42-89ca-a89b6b625ac6"
      },
      "source": [
        "# Add numpy version 1.10 or above as a dependency.\n",
        "# Add any version of pandas as a dependency.\n",
        "# you should always remove unused package dependencies and \n",
        "# allow as many versions of the dependent packages as possible.\n",
        "\n",
        "%%file mypackages/impyrial/setup.py\n",
        "from setuptools import setup, find_packages\n",
        "\n",
        "# Add install requirements\n",
        "setup(\n",
        "    author=\"<your-name>\",\n",
        "    description=\"A package for converting imperial lengths and weights.\",\n",
        "    name=\"impyrial\",\n",
        "    packages=find_packages(include=[\"impyrial\", \"impyrial.*\"]),\n",
        "    version=\"0.1.0\",\n",
        "    install_requires=[\"numpy>=1.10\", \"pandas\"],\n",
        ")"
      ],
      "execution_count": null,
      "outputs": [
        {
          "output_type": "stream",
          "text": [
            "Writing mypackages/impyrial/setup.py\n"
          ],
          "name": "stdout"
        }
      ]
    },
    {
      "cell_type": "code",
      "metadata": {
        "id": "hy0xTkEOG_n8"
      },
      "source": [
        "# Use pip freeze to save the packages installed into a file called requirements.txt in the top level of impyrial.\n",
        "\n",
        "!pip freeze > mypackages/impyrial/requirements.txt\n",
        "\n",
        "# ด้วยคำสั่งนี้ก็จะมี requirements.txt โผ่ล่ขึ้นมา\n",
        "# ในโจทย์ จะใช้แค่ pip freeze > requirements.txt เพราะเขาทำ pwd ไว้ที่ /mypackages/impyrial ให้เราแล้ว\n",
        "\n"
      ],
      "execution_count": null,
      "outputs": []
    },
    {
      "cell_type": "code",
      "metadata": {
        "colab": {
          "base_uri": "https://localhost:8080/"
        },
        "id": "3qGWcUYoH__F",
        "outputId": "74089437-5bb3-41bf-a5e0-1c5f31dfe506"
      },
      "source": [
        "# การเขียน README.md\n",
        "\n",
        "# Add a title at the top of the file for impyrial.\n",
        "# In the second sentence of the description, turn the word \"DataCamp\" into a link to https://www.datacamp.com.\n",
        "# Add backticks so that the usage example will display as code.\n",
        "\n",
        "import os\n",
        "os.chdir(\"/content/mypackages/impyrial\")\n",
        "!pwd"
      ],
      "execution_count": null,
      "outputs": [
        {
          "output_type": "stream",
          "text": [
            "/content\n"
          ],
          "name": "stdout"
        }
      ]
    },
    {
      "cell_type": "code",
      "metadata": {
        "colab": {
          "base_uri": "https://localhost:8080/"
        },
        "id": "zGqbvv8vNGlt",
        "outputId": "3b111baf-f1e4-494f-be62-506e79ecbe49"
      },
      "source": [
        "%%file /content/mypackages/impyrial/README.md\n",
        "\n",
        "# impyrial\n",
        "\n",
        "A package for converting between imperial unit lengths and weights.\n",
        "\n",
        "This package was created for the ____[DataCamp](https://www.datacamp.com)____ course \"Developing Python Packages\".\n",
        "\n",
        "### Features\n",
        "\n",
        "- Convert lengths between miles, yards, feet and inches.\n",
        "- Convert weights between hundredweight, stone, pounds and ounces.\n",
        "\n",
        "### Usage\n",
        "\n",
        "```\n",
        "import impyrial\n",
        "\n",
        "# Convert 500 miles to feet\n",
        "impyrial.length.convert_unit(500, from_unit='yd', to_unit='ft')  # returns 1500.0\n",
        "\n",
        "# Convert 100 ounces to pounds\n",
        "impyrial.weight.convert_unit(100, from_unit='oz', to_unit='lb')  # returns 6.25\n",
        "```\n"
      ],
      "execution_count": null,
      "outputs": [
        {
          "output_type": "stream",
          "text": [
            "Writing /content/mypackages/impyrial/README.md\n"
          ],
          "name": "stdout"
        }
      ]
    },
    {
      "cell_type": "code",
      "metadata": {
        "colab": {
          "base_uri": "https://localhost:8080/"
        },
        "id": "d1wiNABPv8DH",
        "outputId": "2359da2b-8385-42e8-b303-a93de1fc9d36"
      },
      "source": [
        "%%file /content/mypackages/impyrial/LICENSE\n",
        "\n",
        "MIT License\n",
        "\n",
        "Copyright (c) 2020, James Fulton\n",
        "\n",
        "Permission is hereby granted, free of charge, to any person obtaining a copy\n",
        "of this software and associated documentation files (the \"Software\"), to deal\n",
        "in the Software without restriction, including without limitation the rights\n",
        "to use, copy, modify, merge, publish, distribute, sublicense, and/or sell\n",
        "copies of the Software, and to permit persons to whom the Software is\n",
        "furnished to do so, subject to the following conditions:\n",
        "\n",
        "The above copyright notice and this permission notice shall be included in all\n",
        "copies or substantial portions of the Software.\n",
        "\n",
        "THE SOFTWARE IS PROVIDED \"AS IS\", WITHOUT WARRANTY OF ANY KIND, EXPRESS OR\n",
        "IMPLIED, INCLUDING BUT NOT LIMITED TO THE WARRANTIES OF MERCHANTABILITY,\n",
        "FITNESS FOR A PARTICULAR PURPOSE AND NONINFRINGEMENT. IN NO EVENT SHALL THE\n",
        "AUTHORS OR COPYRIGHT HOLDERS BE LIABLE FOR ANY CLAIM, DAMAGES OR OTHER\n",
        "LIABILITY, WHETHER IN AN ACTION OF CONTRACT, TORT OR OTHERWISE, ARISING FROM,\n",
        "OUT OF OR IN CONNECTION WITH THE SOFTWARE OR THE USE OR OTHER DEALINGS IN THE\n",
        "SOFTWARE."
      ],
      "execution_count": null,
      "outputs": [
        {
          "output_type": "stream",
          "text": [
            "Overwriting /content/mypackages/impyrial/LICENSE\n"
          ],
          "name": "stdout"
        }
      ]
    },
    {
      "cell_type": "code",
      "metadata": {
        "colab": {
          "base_uri": "https://localhost:8080/"
        },
        "id": "73uxE5sEv9BN",
        "outputId": "0640550a-a786-4449-80d8-f149e845bc47"
      },
      "source": [
        "%%file /content/mypackages/impyrial/MANIFEST.in\n",
        "\n",
        "include LICENSE\n",
        "include README.md"
      ],
      "execution_count": null,
      "outputs": [
        {
          "output_type": "stream",
          "text": [
            "Writing /content/mypackages/impyrial/MANIFEST.in\n"
          ],
          "name": "stdout"
        }
      ]
    },
    {
      "cell_type": "code",
      "metadata": {
        "colab": {
          "base_uri": "https://localhost:8080/"
        },
        "id": "OUAkqPHWyjT9",
        "outputId": "1e61e53b-ff99-40c6-8ead-62cc49f0e11e"
      },
      "source": [
        "# เปลี่ยน directory เพราะเราจะรันคำสั่งกับไฟล์ setup.py เพื่อ distribute packages\n",
        "import os \n",
        "os.chdir(\"/content/mypackages/impyrial\")\n",
        "!pwd"
      ],
      "execution_count": null,
      "outputs": [
        {
          "output_type": "stream",
          "text": [
            "/content/mypackages/impyrial\n"
          ],
          "name": "stdout"
        }
      ]
    },
    {
      "cell_type": "code",
      "metadata": {
        "colab": {
          "base_uri": "https://localhost:8080/"
        },
        "id": "1RXZ7-Js1sSA",
        "outputId": "7ae7986e-a2a7-4940-d0be-6d40f694f198"
      },
      "source": [
        "# python shell command to make distribution\n",
        "!python setup.py sdist bdist_wheel\n",
        "\n",
        "# จะเจอ folder \"dist\" โผล่ขึ้นมา\n",
        "# You'll see the source and \n",
        "# wheel distributions have been created and are now in the dist folder. "
      ],
      "execution_count": null,
      "outputs": [
        {
          "output_type": "stream",
          "text": [
            "running sdist\n",
            "running egg_info\n",
            "writing impyrial.egg-info/PKG-INFO\n",
            "writing dependency_links to impyrial.egg-info/dependency_links.txt\n",
            "writing requirements to impyrial.egg-info/requires.txt\n",
            "writing top-level names to impyrial.egg-info/top_level.txt\n",
            "adding license file 'LICENSE' (matched pattern 'LICEN[CS]E*')\n",
            "reading manifest file 'impyrial.egg-info/SOURCES.txt'\n",
            "reading manifest template 'MANIFEST.in'\n",
            "writing manifest file 'impyrial.egg-info/SOURCES.txt'\n",
            "running check\n",
            "warning: check: missing required meta-data: url\n",
            "\n",
            "warning: check: missing meta-data: if 'author' supplied, 'author_email' must be supplied too\n",
            "\n",
            "creating impyrial-0.1.0\n",
            "creating impyrial-0.1.0/impyrial\n",
            "creating impyrial-0.1.0/impyrial.egg-info\n",
            "creating impyrial-0.1.0/impyrial/length\n",
            "creating impyrial-0.1.0/impyrial/weight\n",
            "copying files to impyrial-0.1.0...\n",
            "copying LICENSE -> impyrial-0.1.0\n",
            "copying MANIFEST.in -> impyrial-0.1.0\n",
            "copying README.md -> impyrial-0.1.0\n",
            "copying setup.py -> impyrial-0.1.0\n",
            "copying impyrial/__init__.py -> impyrial-0.1.0/impyrial\n",
            "copying impyrial/utils.py -> impyrial-0.1.0/impyrial\n",
            "copying impyrial.egg-info/PKG-INFO -> impyrial-0.1.0/impyrial.egg-info\n",
            "copying impyrial.egg-info/SOURCES.txt -> impyrial-0.1.0/impyrial.egg-info\n",
            "copying impyrial.egg-info/dependency_links.txt -> impyrial-0.1.0/impyrial.egg-info\n",
            "copying impyrial.egg-info/requires.txt -> impyrial-0.1.0/impyrial.egg-info\n",
            "copying impyrial.egg-info/top_level.txt -> impyrial-0.1.0/impyrial.egg-info\n",
            "copying impyrial/length/__init__.py -> impyrial-0.1.0/impyrial/length\n",
            "copying impyrial/length/api.py -> impyrial-0.1.0/impyrial/length\n",
            "copying impyrial/length/core.py -> impyrial-0.1.0/impyrial/length\n",
            "copying impyrial/weight/__init__.py -> impyrial-0.1.0/impyrial/weight\n",
            "copying impyrial/weight/api.py -> impyrial-0.1.0/impyrial/weight\n",
            "copying impyrial/weight/core.py -> impyrial-0.1.0/impyrial/weight\n",
            "Writing impyrial-0.1.0/setup.cfg\n",
            "creating dist\n",
            "Creating tar archive\n",
            "removing 'impyrial-0.1.0' (and everything under it)\n",
            "running bdist_wheel\n",
            "running build\n",
            "running build_py\n",
            "creating build\n",
            "creating build/lib\n",
            "creating build/lib/impyrial\n",
            "copying impyrial/utils.py -> build/lib/impyrial\n",
            "copying impyrial/__init__.py -> build/lib/impyrial\n",
            "creating build/lib/impyrial/length\n",
            "copying impyrial/length/core.py -> build/lib/impyrial/length\n",
            "copying impyrial/length/__init__.py -> build/lib/impyrial/length\n",
            "copying impyrial/length/api.py -> build/lib/impyrial/length\n",
            "creating build/lib/impyrial/weight\n",
            "copying impyrial/weight/core.py -> build/lib/impyrial/weight\n",
            "copying impyrial/weight/__init__.py -> build/lib/impyrial/weight\n",
            "copying impyrial/weight/api.py -> build/lib/impyrial/weight\n",
            "installing to build/bdist.linux-x86_64/wheel\n",
            "running install\n",
            "running install_lib\n",
            "creating build/bdist.linux-x86_64\n",
            "creating build/bdist.linux-x86_64/wheel\n",
            "creating build/bdist.linux-x86_64/wheel/impyrial\n",
            "creating build/bdist.linux-x86_64/wheel/impyrial/length\n",
            "copying build/lib/impyrial/length/core.py -> build/bdist.linux-x86_64/wheel/impyrial/length\n",
            "copying build/lib/impyrial/length/__init__.py -> build/bdist.linux-x86_64/wheel/impyrial/length\n",
            "copying build/lib/impyrial/length/api.py -> build/bdist.linux-x86_64/wheel/impyrial/length\n",
            "copying build/lib/impyrial/utils.py -> build/bdist.linux-x86_64/wheel/impyrial\n",
            "creating build/bdist.linux-x86_64/wheel/impyrial/weight\n",
            "copying build/lib/impyrial/weight/core.py -> build/bdist.linux-x86_64/wheel/impyrial/weight\n",
            "copying build/lib/impyrial/weight/__init__.py -> build/bdist.linux-x86_64/wheel/impyrial/weight\n",
            "copying build/lib/impyrial/weight/api.py -> build/bdist.linux-x86_64/wheel/impyrial/weight\n",
            "copying build/lib/impyrial/__init__.py -> build/bdist.linux-x86_64/wheel/impyrial\n",
            "running install_egg_info\n",
            "Copying impyrial.egg-info to build/bdist.linux-x86_64/wheel/impyrial-0.1.0-py3.7.egg-info\n",
            "running install_scripts\n",
            "adding license file \"LICENSE\" (matched pattern \"LICEN[CS]E*\")\n",
            "creating build/bdist.linux-x86_64/wheel/impyrial-0.1.0.dist-info/WHEEL\n",
            "creating 'dist/impyrial-0.1.0-py3-none-any.whl' and adding 'build/bdist.linux-x86_64/wheel' to it\n",
            "adding 'impyrial/__init__.py'\n",
            "adding 'impyrial/utils.py'\n",
            "adding 'impyrial/length/__init__.py'\n",
            "adding 'impyrial/length/api.py'\n",
            "adding 'impyrial/length/core.py'\n",
            "adding 'impyrial/weight/__init__.py'\n",
            "adding 'impyrial/weight/api.py'\n",
            "adding 'impyrial/weight/core.py'\n",
            "adding 'impyrial-0.1.0.dist-info/LICENSE'\n",
            "adding 'impyrial-0.1.0.dist-info/METADATA'\n",
            "adding 'impyrial-0.1.0.dist-info/WHEEL'\n",
            "adding 'impyrial-0.1.0.dist-info/top_level.txt'\n",
            "adding 'impyrial-0.1.0.dist-info/RECORD'\n",
            "removing build/bdist.linux-x86_64/wheel\n"
          ],
          "name": "stdout"
        }
      ]
    },
    {
      "cell_type": "code",
      "metadata": {
        "colab": {
          "base_uri": "https://localhost:8080/"
        },
        "id": "wA3ur8if2Kli",
        "outputId": "d51a02d8-c748-4d64-b2ef-3013fd9724a8"
      },
      "source": [
        "# Uploading distributions\n",
        "# Normally, you would need to register for an account on PyPI \n",
        "# to be able to upload a package.\n",
        "\n",
        "!twine upload dist/*\n",
        "\n",
        "# Run บน colab น่าจะอัพโหลดไม่ได้"
      ],
      "execution_count": null,
      "outputs": [
        {
          "output_type": "stream",
          "text": [
            "/bin/bash: twine: command not found\n"
          ],
          "name": "stdout"
        }
      ]
    },
    {
      "cell_type": "code",
      "metadata": {
        "id": "s0sL_T2N3J1o"
      },
      "source": [
        "# Unit Test\n",
        "# Create a new directory in the top level of impyrial called tests. \n",
        "# You can do this from the terminal using mkdir, or using the IDE menus.\n",
        "\n",
        "import os \n",
        "os.chdir(\"/content/mypackages/impyrial\")\n",
        "!mkdir tests"
      ],
      "execution_count": null,
      "outputs": []
    },
    {
      "cell_type": "code",
      "metadata": {
        "colab": {
          "base_uri": "https://localhost:8080/"
        },
        "id": "wWySZfkzIvBV",
        "outputId": "9881306c-cd36-45b2-e200-2207aa36e5b2"
      },
      "source": [
        "# Add an empty test module inside tests for the impyrial/length/core.py module. Remember to use the naming convention described in the video.\n",
        "# nside the new test module, import the inches_to_feet() and the inches_to_yards() functions from impyrial/length/core.py using an absolute import.\n",
        "\n",
        "%%file /content/mypackages/impyrial/tests/length/test_core.py\n",
        "from impyrial.length.core import inches_to_feet, inches_to_yards"
      ],
      "execution_count": null,
      "outputs": [
        {
          "output_type": "stream",
          "text": [
            "Writing /content/mypackages/impyrial/tests/length/test_core.py\n"
          ],
          "name": "stdout"
        }
      ]
    },
    {
      "cell_type": "code",
      "metadata": {
        "colab": {
          "base_uri": "https://localhost:8080/"
        },
        "id": "k-MvOB9a9s8u",
        "outputId": "07ce882a-8aa5-4bd0-9943-4595636ae3ae"
      },
      "source": [
        "# Define a function which takes no arguments to test the inches_to_feet() function.\n",
        "# Inside the test function, check that 12 inches is converted to 1.0 feet.\n",
        "# Check that 2.5 feet is converted to 30.0 inches when using option reverse=True in inches_to_feet().\n",
        "\n",
        "%%file /content/mypackages/impyrial/tests/length/test_core.py\n",
        "from impyrial.length.core import inches_to_feet, inches_to_yards\n",
        "\n",
        "# Define tests for inches_to_feet function\n",
        "def test_inches_to_feet():\n",
        "\t# Check that 12 inches is converted to 1.0 foot\n",
        "    assert inches_to_feet(12) == 1.0 \n",
        "    # Check that 2.5 feet is converted to 30.0 inches\n",
        "    assert inches_to_feet(2.5, reverse=True) == 30.0\n"
      ],
      "execution_count": null,
      "outputs": [
        {
          "output_type": "stream",
          "text": [
            "Overwriting /content/mypackages/impyrial/tests/length/test_core.py\n"
          ],
          "name": "stdout"
        }
      ]
    },
    {
      "cell_type": "code",
      "metadata": {
        "colab": {
          "base_uri": "https://localhost:8080/"
        },
        "id": "vEN0PwTKKUVp",
        "outputId": "c622f232-c162-46d1-9f98-ae2bcfe60e5d"
      },
      "source": [
        "# Changing from INCHES_PER_FOOT = 12 to INCHES_PER_FOOT = 120 on purpose\n",
        "# This should generate a failed pytest\n",
        "\n",
        "import pytest\n",
        "!pytest /content/mypackages/impyrial/tests/length/test_core.py\n",
        "\n",
        "# ปัญหาด้านล่างเกิดขึ้น ก็เพราะว่าในไฟล์ utils.py โจทย์ใช้ f-string\n",
        "\n",
        "    # if from_unit not in valid_units:\n",
        "    #     raise ValueError(f\"Unit {from_unit} not in {valid_units}\")\n",
        "    # if to_unit not in valid_units:\n",
        "    #     raise ValueError(f\"Unit {to_unit} not in {valid_units}\")\n",
        "\n",
        "# ซึ่งถ้าสังเกต pytest บน colab ใช้ python 2.7.17 ซึ่งไม่มี f-string"
      ],
      "execution_count": null,
      "outputs": [
        {
          "output_type": "stream",
          "text": [
            "\u001b[1m============================= test session starts ==============================\u001b[0m\n",
            "platform linux2 -- Python 2.7.17, pytest-3.6.4, py-1.8.0, pluggy-0.7.1\n",
            "rootdir: /content/mypackages/impyrial, inifile:\n",
            "\u001b[1m\rcollecting 0 items                                                             \u001b[0m\u001b[1m\rcollecting 0 items / 1 errors                                                  \u001b[0m\u001b[1m\rcollected 0 items / 1 errors                                                   \u001b[0m\n",
            "\n",
            "==================================== ERRORS ====================================\n",
            "__________________ ERROR collecting tests/length/test_core.py __________________\n",
            "\u001b[31m/usr/local/lib/python2.7/dist-packages/_pytest/python.py:468: in _importtestmodule\n",
            "    mod = self.fspath.pyimport(ensuresyspath=importmode)\n",
            "/usr/local/lib/python2.7/dist-packages/py/_path/local.py:701: in pyimport\n",
            "    __import__(modname)\n",
            "mypackages/impyrial/tests/__init__.py:11: in <module>\n",
            "    from impyrial import length  # noqa : F401\n",
            "mypackages/impyrial/impyrial/__init__.py:11: in <module>\n",
            "    from . import length  # noqa : F401\n",
            "mypackages/impyrial/impyrial/length/__init__.py:7: in <module>\n",
            "    from .api import convert_unit  # noqa : F401\n",
            "mypackages/impyrial/impyrial/length/api.py:3: in <module>\n",
            "    from impyrial.utils import check_units\n",
            "E     File \"/content/mypackages/impyrial/impyrial/utils.py\", line 15\n",
            "E       raise ValueError(f'Unit {from_unit} not in {valid_units}')\n",
            "E                                                               ^\n",
            "E   SyntaxError: invalid syntax\u001b[0m\n",
            "!!!!!!!!!!!!!!!!!!! Interrupted: 1 errors during collection !!!!!!!!!!!!!!!!!!!!\n",
            "\u001b[1m\u001b[31m=========================== 1 error in 0.22 seconds ============================\u001b[0m\n"
          ],
          "name": "stdout"
        }
      ]
    },
    {
      "cell_type": "code",
      "metadata": {
        "colab": {
          "base_uri": "https://localhost:8080/"
        },
        "id": "U_WI-XGCLhi2",
        "outputId": "546c9089-5058-4645-805e-db0ce9631f50"
      },
      "source": [
        "%%file /content/mypackages/impyrial/setup.py\n",
        "\n",
        "from setuptools import setup, find_packages\n",
        "\n",
        "# Add install requirements\n",
        "setup(\n",
        "    author=\"<your-name>\",\n",
        "    description=\"A package for converting imperial lengths and weights.\",\n",
        "    name=\"impyrial\",\n",
        "    packages=find_packages(include=[\"impyrial\", \"impyrial.*\"]),\n",
        "    version=\"0.1.0\",\n",
        "    install_requires=['numpy>=1.10', 'pandas'],\n",
        "    python_requires=\">=3.5\",\n",
        ")"
      ],
      "execution_count": 22,
      "outputs": [
        {
          "output_type": "stream",
          "text": [
            "Overwriting /content/mypackages/impyrial/setup.py\n"
          ],
          "name": "stdout"
        }
      ]
    },
    {
      "cell_type": "code",
      "metadata": {
        "id": "iMiQcKDuLnKI"
      },
      "source": [
        "!pip freeze > mypackages/impyrial/requirements.txt"
      ],
      "execution_count": 2,
      "outputs": []
    },
    {
      "cell_type": "code",
      "metadata": {
        "id": "ZMz7eQNTP8uv",
        "colab": {
          "base_uri": "https://localhost:8080/"
        },
        "outputId": "1223ae5e-4643-4b0c-f997-5578752ebe40"
      },
      "source": [
        "%%file /content/mypackages/impyrial/README.md\n",
        "\n",
        "# impyrial\n",
        "\n",
        "A package for converting between imperial unit lengths and weights.\n",
        "\n",
        "This package was created for the [DataCamp](https://www.datacamp.com) course \"Developing Python Packages\".\n",
        "\n",
        "### Features\n",
        "\n",
        "- Convert lengths between miles, yards, feet and inches.\n",
        "- Convert weights between hundredweight, stone, pounds and ounces.\n",
        "\n",
        "### Usage\n",
        "\n",
        "```\n",
        "import impyrial\n",
        "\n",
        "# Convert 500 miles to feet\n",
        "impyrial.length.convert_unit(500, from_unit='yd', to_unit='ft')  # returns 1500.0\n",
        "\n",
        "# Convert 100 ounces to pounds\n",
        "impyrial.weight.convert_unit(100, from_unit='oz', to_unit='lb')  # returns 6.25\n",
        "```"
      ],
      "execution_count": 3,
      "outputs": [
        {
          "output_type": "stream",
          "text": [
            "Writing /content/mypackages/impyrial/README.md\n"
          ],
          "name": "stdout"
        }
      ]
    },
    {
      "cell_type": "code",
      "metadata": {
        "id": "nBj1LwGDQs_E",
        "colab": {
          "base_uri": "https://localhost:8080/"
        },
        "outputId": "e4fc5631-10e9-490a-d79b-eabaf98df0ad"
      },
      "source": [
        "%%file /content/mypackages/impyrial/MANIFEST.in\n",
        "\n",
        "include LICENSE\n",
        "include README.md\n"
      ],
      "execution_count": 4,
      "outputs": [
        {
          "output_type": "stream",
          "text": [
            "Writing /content/mypackages/impyrial/MANIFEST.in\n"
          ],
          "name": "stdout"
        }
      ]
    },
    {
      "cell_type": "code",
      "metadata": {
        "colab": {
          "base_uri": "https://localhost:8080/"
        },
        "id": "vydulbrdPWgz",
        "outputId": "20272483-d21d-4bfc-857c-d278f463b2aa"
      },
      "source": [
        "%%file /content/mypackages/impyrial/impyrial/__init__.py\n",
        "\n",
        "__doc__ = \"\"\"\n",
        "impyrial\n",
        "========\n",
        "A package for converting between imperial measurments of length and weight.\n",
        "\"\"\"\n",
        "\n",
        "__author__ = \"\"\"James Fulton\"\"\"\n",
        "__version__ = \"0.1.0\"\n",
        "\n",
        "from . import length  # noqa : F401\n",
        "from . import weight  # noqa : F401\n"
      ],
      "execution_count": 8,
      "outputs": [
        {
          "output_type": "stream",
          "text": [
            "Overwriting /content/mypackages/impyrial/impyrial/__init__.py\n"
          ],
          "name": "stdout"
        }
      ]
    },
    {
      "cell_type": "code",
      "metadata": {
        "colab": {
          "base_uri": "https://localhost:8080/"
        },
        "id": "24AtlDmJPzH7",
        "outputId": "d7204a48-3ac3-4183-fa7a-d70d9d63d120"
      },
      "source": [
        "%%file /content/mypackages/impyrial/impyrial/utils.py\n",
        "\n",
        "\"\"\"Basic backend utility functions\"\"\"\n",
        "\n",
        "\n",
        "def check_units(from_unit, to_unit, valid_units):\n",
        "    \"\"\"Check whether two units are both in a set.\n",
        "\n",
        "    Parameters\n",
        "    ----------\n",
        "    from_unit : str\n",
        "    to_unit : str\n",
        "    valid_units : array_like of str\n",
        "    \"\"\"\n",
        "    # Change from f-string to positional formatting.\n",
        "    # Otherwise, pytest will fail from ValueError which is not what we expect.\n",
        "    # We expect pytest to fail from AssertionError\n",
        "    \n",
        "    if from_unit not in valid_units:\n",
        "        raise ValueError(\"Unit {} not in {}\".format(from_unit, valid_units))\n",
        "    if to_unit not in valid_units:\n",
        "        raise ValueError(\"Unit {} not in {}\".format(from_unit, valid_units))\n"
      ],
      "execution_count": 8,
      "outputs": [
        {
          "output_type": "stream",
          "text": [
            "Overwriting /content/mypackages/impyrial/impyrial/utils.py\n"
          ],
          "name": "stdout"
        }
      ]
    },
    {
      "cell_type": "code",
      "metadata": {
        "colab": {
          "base_uri": "https://localhost:8080/"
        },
        "id": "vq-uf22tQQoZ",
        "outputId": "2094f41f-7f62-4b20-a691-ad61eea2f0c2"
      },
      "source": [
        "%%file /content/mypackages/impyrial/impyrial/length/__init__.py\n",
        "\n",
        "\n",
        "__doc__ = \"\"\"\n",
        "impyrial.length\n",
        "===============\n",
        "Length conversion between imperial units.\n",
        "\"\"\"\n",
        "from .api import convert_unit  # noqa : F401\n"
      ],
      "execution_count": 9,
      "outputs": [
        {
          "output_type": "stream",
          "text": [
            "Writing /content/mypackages/impyrial/impyrial/length/__init__.py\n"
          ],
          "name": "stdout"
        }
      ]
    },
    {
      "cell_type": "code",
      "metadata": {
        "colab": {
          "base_uri": "https://localhost:8080/"
        },
        "id": "BTJjcZpZQeGg",
        "outputId": "96d83563-0b51-480a-e424-54af71430865"
      },
      "source": [
        "%%file /content/mypackages/impyrial/impyrial/length/api.py\n",
        "\n",
        "\n",
        "\"\"\"User-facing functions.\"\"\"\n",
        "import numpy as np\n",
        "from impyrial.utils import check_units\n",
        "from impyrial.length.core import (\n",
        "    UNITS,\n",
        "    inches_to_feet,\n",
        "    inches_to_yards,\n",
        ")\n",
        "\n",
        "\n",
        "def convert_unit(x, from_unit, to_unit):\n",
        "    \"\"\"Convert from one length unit to another.\n",
        "\n",
        "    Parameters\n",
        "    ----------\n",
        "    x : array_like\n",
        "        Lengths to convert.\n",
        "    from_unit : {'in', 'ft', 'yd'}\n",
        "        Unit of the input lengths `x`\n",
        "    to_unit : {'in', 'ft', 'yd'}\n",
        "        Unit of the returned lengths\n",
        "\n",
        "    Returns\n",
        "    -------\n",
        "    ndarray\n",
        "        An array of converted lengths with the same shape as `x`. If `x` is a\n",
        "        0-d array, then a scalar is returned.\n",
        "    \"\"\"\n",
        "    # check if units are valid length units\n",
        "    check_units(from_unit, to_unit, UNITS)\n",
        "\n",
        "    # convert length to inches\n",
        "    if from_unit == \"in\":\n",
        "        inches = x\n",
        "    elif from_unit == \"ft\":\n",
        "        inches = inches_to_feet(x, reverse=True)\n",
        "    elif from_unit == \"yd\":\n",
        "        inches = inches_to_yards(x, reverse=True)\n",
        "\n",
        "    # convert inches to desired units\n",
        "    if to_unit == \"in\":\n",
        "        value = inches\n",
        "    elif to_unit == \"ft\":\n",
        "        value = inches_to_feet(inches)\n",
        "    elif to_unit == \"yd\":\n",
        "        value = inches_to_yards(inches)\n",
        "\n",
        "    return value\n",
        "\n",
        "\n"
      ],
      "execution_count": 10,
      "outputs": [
        {
          "output_type": "stream",
          "text": [
            "Writing /content/mypackages/impyrial/impyrial/length/api.py\n"
          ],
          "name": "stdout"
        }
      ]
    },
    {
      "cell_type": "code",
      "metadata": {
        "colab": {
          "base_uri": "https://localhost:8080/"
        },
        "id": "7Ig66PfhQx5G",
        "outputId": "bf25126d-7a75-4bc4-85fe-8489347038c3"
      },
      "source": [
        "%%file /content/mypackages/impyrial/impyrial/length/core.py\n",
        "\n",
        "\"\"\"Conversions between inches and larger imperial length units\"\"\"\n",
        "INCHES_PER_FOOT = 120  # 12.0 inches in a foot\n",
        "INCHES_PER_YARD = INCHES_PER_FOOT * 3.0  # 3 feet in a yard\n",
        "\n",
        "UNITS = (\"in\", \"ft\", \"yd\")\n",
        "\n",
        "\n",
        "def inches_to_feet(x, reverse=False):\n",
        "    \"\"\"Convert lengths between inches and feet.\n",
        "    Parameters\n",
        "    ----------\n",
        "    x : array_like\n",
        "        Lengths in feet.\n",
        "    reverse : bool, optional\n",
        "        If this is set to true this function converts from feet to inches\n",
        "        instead of the default behaviour of inches to feet.\n",
        "    Returns\n",
        "    -------\n",
        "    ndarray\n",
        "        An array of converted lengths with the same shape as `x`. If `x` is a\n",
        "        0-d array, then a scalar is returned.\n",
        "    \"\"\"\n",
        "    if reverse:\n",
        "        return x * INCHES_PER_FOOT\n",
        "    else:\n",
        "        return x / INCHES_PER_FOOT\n",
        "\n",
        "\n",
        "def inches_to_yards(x, reverse=False):\n",
        "    \"\"\"Convert lengths between inches and yards.\n",
        "    Parameters\n",
        "    ----------\n",
        "    x : array_like\n",
        "        Lengths in feet.\n",
        "    reverse : bool, optional\n",
        "        If this is set to true this function converts from yards to inches\n",
        "        instead of the default behaviour of inches to yards.\n",
        "    Returns\n",
        "    -------\n",
        "    ndarray\n",
        "        An array of converted lengths with the same shape as `x`. If `x` is a\n",
        "        0-d array, then a scalar is returned.\n",
        "    \"\"\"\n",
        "    if reverse:\n",
        "        return x * INCHES_PER_YARD\n",
        "    else:\n",
        "        return x / INCHES_PER_YARD\n"
      ],
      "execution_count": 11,
      "outputs": [
        {
          "output_type": "stream",
          "text": [
            "Writing /content/mypackages/impyrial/impyrial/length/core.py\n"
          ],
          "name": "stdout"
        }
      ]
    },
    {
      "cell_type": "code",
      "metadata": {
        "colab": {
          "base_uri": "https://localhost:8080/"
        },
        "id": "CsGRC2h0Q7xM",
        "outputId": "66994d51-8043-4bf2-ddbd-a14d61524a26"
      },
      "source": [
        "%%file /content/mypackages/impyrial/impyrial/weight/__init__.py\n",
        "\n",
        "__doc__ = \"\"\"\n",
        "impyrial.weight\n",
        "===============\n",
        "Weight conversion between imperial units.\n",
        "\"\"\"\n",
        "from .api import convert_unit  # noqa : F401\n"
      ],
      "execution_count": 12,
      "outputs": [
        {
          "output_type": "stream",
          "text": [
            "Writing /content/mypackages/impyrial/impyrial/weight/__init__.py\n"
          ],
          "name": "stdout"
        }
      ]
    },
    {
      "cell_type": "code",
      "metadata": {
        "colab": {
          "base_uri": "https://localhost:8080/"
        },
        "id": "DHy9u6GVRJV7",
        "outputId": "57748719-5fbb-4551-99ea-e232bb36a79f"
      },
      "source": [
        "%%file /content/mypackages/impyrial/impyrial/weight/api.py\n",
        "\n",
        "\"\"\"User-facing functions.\"\"\"\n",
        "import numpy as np\n",
        "from impyrial.utils import check_units\n",
        "from impyrial.weight.core import (\n",
        "    UNITS,\n",
        "    ounces_to_pounds,\n",
        "    ounces_to_stone,\n",
        ")\n",
        "\n",
        "\n",
        "def convert_unit(x, from_unit, to_unit):\n",
        "    \"\"\"Convert from one weight unit to another.\n",
        "\n",
        "    Parameters\n",
        "    ----------\n",
        "    x : array_like\n",
        "        Weights to convert\n",
        "    from_unit : {'oz', 'lb', 'st'}\n",
        "        Unit of the input weights `x`\n",
        "    to_unit : {'oz', 'lb', 'st'}\n",
        "        Unit of the returned weights\n",
        "\n",
        "    Returns\n",
        "    -------\n",
        "    ndarray\n",
        "        An array of converted weights with the same shape as `x`. If `x` is a\n",
        "        0-d array, then a scalar is returned.\n",
        "    \"\"\"\n",
        "    # check if units are valid weight units\n",
        "    check_units(from_unit, to_unit, UNITS)\n",
        "\n",
        "    # convert weight to ounces\n",
        "    if from_unit == \"oz\":\n",
        "        ounces = x\n",
        "    elif from_unit == \"lb\":\n",
        "        ounces = ounces_to_pounds(x, reverse=True)\n",
        "    elif from_unit == \"st\":\n",
        "        ounces = ounces_to_stone(x, reverse=True)\n",
        "\n",
        "    # convert ounces to desired units\n",
        "    if to_unit == \"oz\":\n",
        "        value = ounces\n",
        "    elif to_unit == \"lb\":\n",
        "        value = ounces_to_pounds(ounces)\n",
        "    elif to_unit == \"st\":\n",
        "        value = ounces_to_stone(ounces)\n",
        "\n",
        "    return value\n",
        "\n",
        "\n"
      ],
      "execution_count": 13,
      "outputs": [
        {
          "output_type": "stream",
          "text": [
            "Writing /content/mypackages/impyrial/impyrial/weight/api.py\n"
          ],
          "name": "stdout"
        }
      ]
    },
    {
      "cell_type": "code",
      "metadata": {
        "colab": {
          "base_uri": "https://localhost:8080/"
        },
        "id": "yOUFB_E-RR6T",
        "outputId": "72806ec5-2fbe-4ae4-cf87-7324b2342b63"
      },
      "source": [
        "%%file /content/mypackages/impyrial/impyrial/weight/core.py\n",
        "\n",
        "\"\"\"Conversions between ounces and larger imperial weight units\"\"\"\n",
        "OUNCES_PER_POUND = 16.0  # 16 ounces in a pound\n",
        "OUNCES_PER_STONE = OUNCES_PER_POUND * 14.0  # 14 pounds in a stone\n",
        "\n",
        "UNITS = (\"oz\", \"lb\", \"st\")\n",
        "\n",
        "\n",
        "def ounces_to_pounds(x, reverse=False):\n",
        "    \"\"\"Convert weights between ounces and pounds.\n",
        "\n",
        "    Parameters\n",
        "    ----------\n",
        "    x : array_like\n",
        "        Weights in pounds.\n",
        "    reverse : bool, optional\n",
        "        If this is set to true this function converts from pounds to ounces\n",
        "        instead of the default behaviour of ounces to pounds.\n",
        "\n",
        "    Returns\n",
        "    -------\n",
        "    ndarray\n",
        "        An array of converted weights with the same shape as `x`. If `x` is a\n",
        "        0-d array, then a scalar is returned.\n",
        "    \"\"\"\n",
        "    if reverse:\n",
        "        return x * OUNCES_PER_POUND\n",
        "    else:\n",
        "        return x / OUNCES_PER_POUND\n",
        "\n",
        "\n",
        "def ounces_to_stone(x, reverse=False):\n",
        "    \"\"\"Convert weights between ounces and stone.\n",
        "\n",
        "    Parameters\n",
        "    ----------\n",
        "    x : array_like\n",
        "        Weights in stone.\n",
        "    reverse : bool, optional\n",
        "        If this is set to true this function converts from stone to ounces\n",
        "        instead of the default behaviour of ounces to stone.\n",
        "\n",
        "    Returns\n",
        "    -------\n",
        "    ndarray\n",
        "        An array of converted weights with the same shape as `x`. If `x` is a\n",
        "        0-d array, then a scalar is returned.\n",
        "    \"\"\"\n",
        "    if reverse:\n",
        "        return x * OUNCES_PER_STONE\n",
        "    else:\n",
        "        return x / OUNCES_PER_STONE\n"
      ],
      "execution_count": 14,
      "outputs": [
        {
          "output_type": "stream",
          "text": [
            "Writing /content/mypackages/impyrial/impyrial/weight/core.py\n"
          ],
          "name": "stdout"
        }
      ]
    },
    {
      "cell_type": "code",
      "metadata": {
        "colab": {
          "base_uri": "https://localhost:8080/"
        },
        "id": "Fp-FElZ2RapA",
        "outputId": "0bca7e99-22a7-4ca6-b0d5-dabf53b677af"
      },
      "source": [
        "%%file /content/mypackages/impyrial/tests/__init__.py\n",
        "\n",
        "\"\"\"Unit tests for impyrial.\"\"\"\n"
      ],
      "execution_count": 15,
      "outputs": [
        {
          "output_type": "stream",
          "text": [
            "Writing /content/mypackages/impyrial/tests/__init__.py\n"
          ],
          "name": "stdout"
        }
      ]
    },
    {
      "cell_type": "code",
      "metadata": {
        "colab": {
          "base_uri": "https://localhost:8080/"
        },
        "id": "RFH_XqI7VEqE",
        "outputId": "cebffe23-3466-4896-e543-efc117a86498"
      },
      "source": [
        "%%file /content/mypackages/impyrial/tests/length/__init__.py\n",
        "\n",
        "\"\"\"Unit tests for impyrial.length\"\"\""
      ],
      "execution_count": 6,
      "outputs": [
        {
          "output_type": "stream",
          "text": [
            "Overwriting /content/mypackages/impyrial/tests/length/__init__.py\n"
          ],
          "name": "stdout"
        }
      ]
    },
    {
      "cell_type": "code",
      "metadata": {
        "colab": {
          "base_uri": "https://localhost:8080/"
        },
        "id": "oODdmAYTVJDU",
        "outputId": "e1ac8344-bbce-462d-e581-f4359c1cdcc4"
      },
      "source": [
        "%%file /content/mypackages/impyrial/tests/weight/__init__.py\n",
        "\n",
        "\"\"\"Unit tests for impyrial.length\"\"\""
      ],
      "execution_count": 7,
      "outputs": [
        {
          "output_type": "stream",
          "text": [
            "Overwriting /content/mypackages/impyrial/tests/weight/__init__.py\n"
          ],
          "name": "stdout"
        }
      ]
    },
    {
      "cell_type": "code",
      "metadata": {
        "colab": {
          "base_uri": "https://localhost:8080/"
        },
        "id": "LNphEdSaR1qC",
        "outputId": "d1cb3189-7a50-4f9c-98de-c4340ebe52d0"
      },
      "source": [
        "%%file /content/mypackages/impyrial/tests/length/test_core.py\n",
        "\n",
        "from impyrial.length.core import inches_to_feet, inches_to_yards\n",
        "\n",
        "# Define tests for inches_to_feet function\n",
        "def test_inches_to_feet():\n",
        "\t# Check that 12 inches is converted to 1 foot\n",
        "    assert inches_to_feet(12) == 1.0\n",
        "    # Check that 2.5 feet is converted to 30 inches\n",
        "    assert inches_to_feet(2.5, reverse=True) == 30.0\n",
        "    \n"
      ],
      "execution_count": 16,
      "outputs": [
        {
          "output_type": "stream",
          "text": [
            "Writing /content/mypackages/impyrial/tests/length/test_core.py\n"
          ],
          "name": "stdout"
        }
      ]
    },
    {
      "cell_type": "code",
      "metadata": {
        "colab": {
          "base_uri": "https://localhost:8080/"
        },
        "id": "zYWDPRRzSVBZ",
        "outputId": "ee46f7ca-7e2b-4a6d-810d-855f4edfc64e"
      },
      "source": [
        "%%file /content/mypackages/impyrial/tests/weight/test_core.py\n",
        "\n",
        "from impyrial.weight.core import (\n",
        "    ounces_to_pounds,\n",
        "    ounces_to_stone,\n",
        ")\n",
        "\n",
        "\n",
        "def test_ounces_to_pounds():\n",
        "    assert ounces_to_pounds(16) == 1.0\n",
        "    assert ounces_to_pounds(-1) == -1 / 16.0\n",
        "    assert ounces_to_pounds(2.5, reverse=True) == 40.0\n",
        "\n",
        "\n",
        "def test_ounces_to_stone():\n",
        "    assert ounces_to_stone(224) == 1.0\n",
        "    assert ounces_to_stone(-14) == -1 / 16.0\n",
        "    assert ounces_to_stone(3, reverse=True) == 672.0\n"
      ],
      "execution_count": 17,
      "outputs": [
        {
          "output_type": "stream",
          "text": [
            "Writing /content/mypackages/impyrial/tests/weight/test_core.py\n"
          ],
          "name": "stdout"
        }
      ]
    },
    {
      "cell_type": "code",
      "metadata": {
        "colab": {
          "base_uri": "https://localhost:8080/"
        },
        "id": "M0plob0fSq-B",
        "outputId": "e58c3a38-e112-4d0a-b80f-79ec845fdc34"
      },
      "source": [
        "import os\n",
        "os.chdir(\"/content/mypackages/impyrial\")\n",
        "!pip install -e ."
      ],
      "execution_count": 1,
      "outputs": [
        {
          "output_type": "stream",
          "text": [
            "Obtaining file:///content/mypackages/impyrial\n",
            "Requirement already satisfied: numpy>=1.10 in /usr/local/lib/python3.7/dist-packages (from impyrial==0.1.0) (1.19.5)\n",
            "Requirement already satisfied: pandas in /usr/local/lib/python3.7/dist-packages (from impyrial==0.1.0) (1.1.5)\n",
            "Requirement already satisfied: python-dateutil>=2.7.3 in /usr/local/lib/python3.7/dist-packages (from pandas->impyrial==0.1.0) (2.8.1)\n",
            "Requirement already satisfied: pytz>=2017.2 in /usr/local/lib/python3.7/dist-packages (from pandas->impyrial==0.1.0) (2018.9)\n",
            "Requirement already satisfied: six>=1.5 in /usr/local/lib/python3.7/dist-packages (from python-dateutil>=2.7.3->pandas->impyrial==0.1.0) (1.15.0)\n",
            "Installing collected packages: impyrial\n",
            "  Found existing installation: impyrial 0.1.0\n",
            "    Can't uninstall 'impyrial'. No files were found to uninstall.\n",
            "  Running setup.py develop for impyrial\n",
            "Successfully installed impyrial\n"
          ],
          "name": "stdout"
        }
      ]
    },
    {
      "cell_type": "code",
      "metadata": {
        "id": "_9iNAh0KSxIm"
      },
      "source": [
        "import impyrial\n",
        "import pytest"
      ],
      "execution_count": 1,
      "outputs": []
    },
    {
      "cell_type": "code",
      "metadata": {
        "colab": {
          "base_uri": "https://localhost:8080/"
        },
        "id": "BkwDdRJBS-Yg",
        "outputId": "998a389c-6479-47c4-af44-afcc0baed8f5"
      },
      "source": [
        "# ถ้าใครไม่ได้แก้ใน utils.py ซึ่งใช้ f-string จะรัน pytest บน colab และพบกับ ValueError\n",
        "# Changing from INCHES_PER_FOOT = 12 to INCHES_PER_FOOT = 120 in /content/mypackcages/impyrial/impyrial/length/core.py on purpose\n",
        "# This should generate a failed pytest from ASSERTION ERROR.\n",
        "!pytest"
      ],
      "execution_count": 6,
      "outputs": [
        {
          "output_type": "stream",
          "text": [
            "\u001b[1m============================= test session starts ==============================\u001b[0m\n",
            "platform linux2 -- Python 2.7.17, pytest-3.6.4, py-1.8.0, pluggy-0.7.1\n",
            "rootdir: /content/mypackages/impyrial, inifile:\n",
            "\u001b[1m\rcollecting 0 items                                                             \u001b[0m\u001b[1m\rcollecting 1 item                                                              \u001b[0m\u001b[1m\rcollecting 3 items                                                             \u001b[0m\u001b[1m\rcollected 3 items                                                              \u001b[0m\n",
            "\n",
            "tests/length/test_core.py F\u001b[36m                                              [ 33%]\u001b[0m\n",
            "tests/weight/test_core.py ..\u001b[36m                                             [100%]\u001b[0m\n",
            "\n",
            "=================================== FAILURES ===================================\n",
            "\u001b[1m\u001b[31m_____________________________ test_inches_to_feet ______________________________\u001b[0m\n",
            "\n",
            "\u001b[1m    def test_inches_to_feet():\u001b[0m\n",
            "\u001b[1m    \t# Check that 12 inches is converted to 1 foot\u001b[0m\n",
            "\u001b[1m>       assert inches_to_feet(12) == 1.0\u001b[0m\n",
            "\u001b[1m\u001b[31mE       assert 0 == 1.0\u001b[0m\n",
            "\u001b[1m\u001b[31mE        +  where 0 = inches_to_feet(12)\u001b[0m\n",
            "\n",
            "\u001b[1m\u001b[31mtests/length/test_core.py\u001b[0m:7: AssertionError\n",
            "\u001b[1m\u001b[31m====================== 1 failed, 2 passed in 0.11 seconds ======================\u001b[0m\n"
          ],
          "name": "stdout"
        }
      ]
    },
    {
      "cell_type": "code",
      "metadata": {
        "colab": {
          "base_uri": "https://localhost:8080/"
        },
        "id": "B2HvQwOyTAaV",
        "outputId": "e7e2d004-1a6b-4e68-ac5c-fd2b9c77b8a2"
      },
      "source": [
        "# # Changing back to INCHES_PER_FOOT = 12 in /content/mypackcages/impyrial/impyrial/length/core.py\n",
        "!pytest"
      ],
      "execution_count": 9,
      "outputs": [
        {
          "output_type": "stream",
          "text": [
            "\u001b[1m============================= test session starts ==============================\u001b[0m\n",
            "platform linux2 -- Python 2.7.17, pytest-3.6.4, py-1.8.0, pluggy-0.7.1\n",
            "rootdir: /content/mypackages/impyrial, inifile:\n",
            "\u001b[1m\rcollecting 0 items                                                             \u001b[0m\u001b[1m\rcollecting 1 item                                                              \u001b[0m\u001b[1m\rcollecting 3 items                                                             \u001b[0m\u001b[1m\rcollected 3 items                                                              \u001b[0m\n",
            "\n",
            "tests/length/test_core.py .\u001b[36m                                              [ 33%]\u001b[0m\n",
            "tests/weight/test_core.py ..\u001b[36m                                             [100%]\u001b[0m\n",
            "\n",
            "\u001b[32m\u001b[1m=========================== 3 passed in 0.08 seconds ===========================\u001b[0m\n"
          ],
          "name": "stdout"
        }
      ]
    },
    {
      "cell_type": "code",
      "metadata": {
        "colab": {
          "base_uri": "https://localhost:8080/"
        },
        "id": "DgKno6S7VukR",
        "outputId": "3795e414-5e6c-4773-d2ee-55fb8ed3c377"
      },
      "source": [
        "# Edit tox.ini to use tox to run pytest for various versions of python\n",
        "\n",
        "%%file /content/mypackages/impyrial/tox.ini\n",
        "[tox]\n",
        "envlist = py27, py36\n",
        "\n",
        "[testenv]\n",
        "deps = pytest\n",
        "commands = pytest"
      ],
      "execution_count": 12,
      "outputs": [
        {
          "output_type": "stream",
          "text": [
            "Overwriting /content/mypackages/impyrial/tox.ini\n"
          ],
          "name": "stdout"
        }
      ]
    },
    {
      "cell_type": "code",
      "metadata": {
        "colab": {
          "base_uri": "https://localhost:8080/",
          "height": 592
        },
        "id": "jiobVwYBGl82",
        "outputId": "36de65e2-a7ce-4d24-a064-528e89dbd825"
      },
      "source": [
        "!pip install tox"
      ],
      "execution_count": 37,
      "outputs": [
        {
          "output_type": "stream",
          "text": [
            "Collecting tox\n",
            "\u001b[?25l  Downloading https://files.pythonhosted.org/packages/d8/63/2fa635ac1b8a22e960654b07c270dfb53eb873aba261006536de40327b18/tox-3.23.1-py2.py3-none-any.whl (85kB)\n",
            "\r\u001b[K     |███▉                            | 10kB 12.7MB/s eta 0:00:01\r\u001b[K     |███████▊                        | 20kB 17.2MB/s eta 0:00:01\r\u001b[K     |███████████▌                    | 30kB 20.1MB/s eta 0:00:01\r\u001b[K     |███████████████▍                | 40kB 23.1MB/s eta 0:00:01\r\u001b[K     |███████████████████▎            | 51kB 25.8MB/s eta 0:00:01\r\u001b[K     |███████████████████████         | 61kB 24.2MB/s eta 0:00:01\r\u001b[K     |███████████████████████████     | 71kB 24.9MB/s eta 0:00:01\r\u001b[K     |██████████████████████████████▊ | 81kB 25.2MB/s eta 0:00:01\r\u001b[K     |████████████████████████████████| 92kB 6.7MB/s \n",
            "\u001b[?25hRequirement already satisfied: six>=1.14.0 in /usr/local/lib/python3.7/dist-packages (from tox) (1.15.0)\n",
            "Requirement already satisfied: importlib-metadata>=0.12; python_version < \"3.8\" in /usr/local/lib/python3.7/dist-packages (from tox) (4.0.1)\n",
            "Collecting pluggy>=0.12.0\n",
            "  Downloading https://files.pythonhosted.org/packages/a0/28/85c7aa31b80d150b772fbe4a229487bc6644da9ccb7e427dd8cc60cb8a62/pluggy-0.13.1-py2.py3-none-any.whl\n",
            "Requirement already satisfied: packaging>=14 in /usr/local/lib/python3.7/dist-packages (from tox) (20.9)\n",
            "Requirement already satisfied: filelock>=3.0.0 in /usr/local/lib/python3.7/dist-packages (from tox) (3.0.12)\n",
            "Requirement already satisfied: py>=1.4.17 in /usr/local/lib/python3.7/dist-packages (from tox) (1.10.0)\n",
            "Collecting virtualenv!=20.0.0,!=20.0.1,!=20.0.2,!=20.0.3,!=20.0.4,!=20.0.5,!=20.0.6,!=20.0.7,>=16.0.0\n",
            "\u001b[?25l  Downloading https://files.pythonhosted.org/packages/03/08/f819421002e85a71d58368f7bffbe0b1921325e0e8ca7857cb5fb0e1f7c1/virtualenv-20.4.7-py2.py3-none-any.whl (7.2MB)\n",
            "\u001b[K     |████████████████████████████████| 7.2MB 23.7MB/s \n",
            "\u001b[?25hRequirement already satisfied: toml>=0.9.4 in /usr/local/lib/python3.7/dist-packages (from tox) (0.10.2)\n",
            "Requirement already satisfied: typing-extensions>=3.6.4; python_version < \"3.8\" in /usr/local/lib/python3.7/dist-packages (from importlib-metadata>=0.12; python_version < \"3.8\"->tox) (3.7.4.3)\n",
            "Requirement already satisfied: zipp>=0.5 in /usr/local/lib/python3.7/dist-packages (from importlib-metadata>=0.12; python_version < \"3.8\"->tox) (3.4.1)\n",
            "Requirement already satisfied: pyparsing>=2.0.2 in /usr/local/lib/python3.7/dist-packages (from packaging>=14->tox) (2.4.7)\n",
            "Collecting distlib<1,>=0.3.1\n",
            "\u001b[?25l  Downloading https://files.pythonhosted.org/packages/87/26/f6a23dd3e578132cf924e0dd5d4e055af0cd4ab43e2a9f10b7568bfb39d9/distlib-0.3.2-py2.py3-none-any.whl (338kB)\n",
            "\u001b[K     |████████████████████████████████| 348kB 35.9MB/s \n",
            "\u001b[?25hRequirement already satisfied: appdirs<2,>=1.4.3 in /usr/local/lib/python3.7/dist-packages (from virtualenv!=20.0.0,!=20.0.1,!=20.0.2,!=20.0.3,!=20.0.4,!=20.0.5,!=20.0.6,!=20.0.7,>=16.0.0->tox) (1.4.4)\n",
            "\u001b[31mERROR: pytest 3.6.4 has requirement pluggy<0.8,>=0.5, but you'll have pluggy 0.13.1 which is incompatible.\u001b[0m\n",
            "\u001b[31mERROR: datascience 0.10.6 has requirement folium==0.2.1, but you'll have folium 0.8.3 which is incompatible.\u001b[0m\n",
            "Installing collected packages: pluggy, distlib, virtualenv, tox\n",
            "  Found existing installation: pluggy 0.7.1\n",
            "    Uninstalling pluggy-0.7.1:\n",
            "      Successfully uninstalled pluggy-0.7.1\n",
            "Successfully installed distlib-0.3.2 pluggy-0.13.1 tox-3.23.1 virtualenv-20.4.7\n"
          ],
          "name": "stdout"
        },
        {
          "output_type": "display_data",
          "data": {
            "application/vnd.colab-display-data+json": {
              "pip_warning": {
                "packages": [
                  "pluggy"
                ]
              }
            }
          },
          "metadata": {
            "tags": []
          }
        }
      ]
    },
    {
      "cell_type": "code",
      "metadata": {
        "colab": {
          "base_uri": "https://localhost:8080/"
        },
        "id": "pR-uka3Nb6tH",
        "outputId": "e47eac22-4f4a-4e4c-9a0b-fb15ac5a5bba"
      },
      "source": [
        "# น่าจะใช้บน colab ไม่ได้\n",
        "import impyrial\n",
        "import tox\n",
        "import pytest\n",
        "import os\n",
        "os.chdir(\"/content/mypackages/impyrial\")\n",
        "!tox"
      ],
      "execution_count": 4,
      "outputs": [
        {
          "output_type": "stream",
          "text": [
            "\u001b[1mGLOB sdist-make: /content/mypackages/impyrial/setup.py\n",
            "\u001b[0m\u001b[31mERROR: invocation failed (exit code 1), logfile: /content/mypackages/impyrial/.tox/log/GLOB-0.log\n",
            "\u001b[0m================================== log start ===================================\n",
            "Traceback (most recent call last):\n",
            "  File \"setup.py\", line 12, in <module>\n",
            "    python_requires=\">=3.6\"\n",
            "  File \"/usr/local/lib/python3.7/dist-packages/setuptools/__init__.py\", line 152, in setup\n",
            "    _install_setup_requires(attrs)\n",
            "  File \"/usr/local/lib/python3.7/dist-packages/setuptools/__init__.py\", line 145, in _install_setup_requires\n",
            "    dist.parse_config_files(ignore_option_errors=True)\n",
            "  File \"/usr/local/lib/python3.7/dist-packages/setuptools/dist.py\", line 740, in parse_config_files\n",
            "    self._parse_config_files(filenames=filenames)\n",
            "  File \"/usr/local/lib/python3.7/dist-packages/setuptools/dist.py\", line 620, in _parse_config_files\n",
            "    parser.read_file(reader)\n",
            "  File \"/usr/lib/python3.7/configparser.py\", line 717, in read_file\n",
            "    self._read(f, source)\n",
            "  File \"/usr/lib/python3.7/configparser.py\", line 1110, in _read\n",
            "    raise e\n",
            "configparser.ParsingError: Source contains parsing errors: 'setup.cfg'\n",
            "\t[line  4]: 'Ignore F401 \\n'\n",
            "\n",
            "=================================== log end ====================================\n",
            "\u001b[31mERROR: FAIL could not package project - v = InvocationError('/usr/bin/python3 setup.py sdist --formats=zip --dist-dir /content/mypackages/impyrial/.tox/dist', 1)\n",
            "\u001b[0m"
          ],
          "name": "stdout"
        }
      ]
    },
    {
      "cell_type": "code",
      "metadata": {
        "colab": {
          "base_uri": "https://localhost:8080/"
        },
        "id": "HX88BWEDezaT",
        "outputId": "6e270030-2371-43da-befb-0a782354ca21"
      },
      "source": [
        "!pip install flake8"
      ],
      "execution_count": 14,
      "outputs": [
        {
          "output_type": "stream",
          "text": [
            "Collecting flake8\n",
            "\u001b[?25l  Downloading https://files.pythonhosted.org/packages/fc/80/35a0716e5d5101e643404dabd20f07f5528a21f3ef4032d31a49c913237b/flake8-3.9.2-py2.py3-none-any.whl (73kB)\n",
            "\u001b[K     |████████████████████████████████| 81kB 7.1MB/s \n",
            "\u001b[?25hCollecting mccabe<0.7.0,>=0.6.0\n",
            "  Downloading https://files.pythonhosted.org/packages/87/89/479dc97e18549e21354893e4ee4ef36db1d237534982482c3681ee6e7b57/mccabe-0.6.1-py2.py3-none-any.whl\n",
            "Collecting pycodestyle<2.8.0,>=2.7.0\n",
            "\u001b[?25l  Downloading https://files.pythonhosted.org/packages/de/cc/227251b1471f129bc35e966bb0fceb005969023926d744139642d847b7ae/pycodestyle-2.7.0-py2.py3-none-any.whl (41kB)\n",
            "\u001b[K     |████████████████████████████████| 51kB 4.4MB/s \n",
            "\u001b[?25hRequirement already satisfied: importlib-metadata; python_version < \"3.8\" in /usr/local/lib/python3.7/dist-packages (from flake8) (4.0.1)\n",
            "Collecting pyflakes<2.4.0,>=2.3.0\n",
            "\u001b[?25l  Downloading https://files.pythonhosted.org/packages/6c/11/2a745612f1d3cbbd9c69ba14b1b43a35a2f5c3c81cd0124508c52c64307f/pyflakes-2.3.1-py2.py3-none-any.whl (68kB)\n",
            "\u001b[K     |████████████████████████████████| 71kB 7.8MB/s \n",
            "\u001b[?25hRequirement already satisfied: typing-extensions>=3.6.4; python_version < \"3.8\" in /usr/local/lib/python3.7/dist-packages (from importlib-metadata; python_version < \"3.8\"->flake8) (3.7.4.3)\n",
            "Requirement already satisfied: zipp>=0.5 in /usr/local/lib/python3.7/dist-packages (from importlib-metadata; python_version < \"3.8\"->flake8) (3.4.1)\n",
            "Installing collected packages: mccabe, pycodestyle, pyflakes, flake8\n",
            "Successfully installed flake8-3.9.2 mccabe-0.6.1 pycodestyle-2.7.0 pyflakes-2.3.1\n"
          ],
          "name": "stdout"
        }
      ]
    },
    {
      "cell_type": "code",
      "metadata": {
        "colab": {
          "base_uri": "https://localhost:8080/"
        },
        "id": "FrK38mv6hAw7",
        "outputId": "8e2e143b-5c13-4340-f7cc-6d5952ae50d0"
      },
      "source": [
        "%%file /content/absolute.py\n",
        "\n",
        "\"\"\"Main module.\"\"\"\n",
        "\n",
        "def absolute_value(num):\n",
        "    \"\"\"Return the absolute value of the number\"\"\"\n",
        "    if num>=0: return num\n",
        "    else:\n",
        "    \treturn -num"
      ],
      "execution_count": 15,
      "outputs": [
        {
          "output_type": "stream",
          "text": [
            "Writing /content/absolute.py\n"
          ],
          "name": "stdout"
        }
      ]
    },
    {
      "cell_type": "code",
      "metadata": {
        "colab": {
          "base_uri": "https://localhost:8080/"
        },
        "id": "Z1CV_Lm2hLft",
        "outputId": "128f1201-0787-4f93-fcaa-935029cd6556"
      },
      "source": [
        "import flake8\n",
        "import os\n",
        "os.chdir(\"/content\")\n",
        "!flake8 absolute.py"
      ],
      "execution_count": 22,
      "outputs": [
        {
          "output_type": "stream",
          "text": [
            "absolute.py:4:1: E302 expected 2 blank lines, found 1\n",
            "absolute.py:6:11: E225 missing whitespace around operator\n",
            "absolute.py:6:14: E701 multiple statements on one line (colon)\n",
            "absolute.py:8:5: W191 indentation contains tabs\n",
            "absolute.py:8:5: E101 indentation contains mixed spaces and tabs\n",
            "absolute.py:8:17: W292 no newline at end of file\n"
          ],
          "name": "stdout"
        }
      ]
    },
    {
      "cell_type": "code",
      "metadata": {
        "colab": {
          "base_uri": "https://localhost:8080/"
        },
        "id": "VgIn5u0riB0b",
        "outputId": "d6e4c001-a6fb-46f4-80af-516f5d627f56"
      },
      "source": [
        "%%file /content/absolute.py\n",
        "\"\"\"Main module.\"\"\"\n",
        "\n",
        "\n",
        "def absolute_value(num):\n",
        "    \"\"\"Return the absolute value of the number\"\"\"\n",
        "    if num >= 0:\n",
        "        return num\n",
        "    else:\n",
        "        return -num"
      ],
      "execution_count": 27,
      "outputs": [
        {
          "output_type": "stream",
          "text": [
            "Overwriting /content/absolute.py\n"
          ],
          "name": "stdout"
        }
      ]
    },
    {
      "cell_type": "code",
      "metadata": {
        "colab": {
          "base_uri": "https://localhost:8080/"
        },
        "id": "PXiTTj2rier9",
        "outputId": "36e0b121-d132-4362-c0b5-9210f42a7706"
      },
      "source": [
        "!flake8 absolute.py"
      ],
      "execution_count": 28,
      "outputs": [
        {
          "output_type": "stream",
          "text": [
            "absolute.py:9:20: W292 no newline at end of file\n"
          ],
          "name": "stdout"
        }
      ]
    },
    {
      "cell_type": "code",
      "metadata": {
        "colab": {
          "base_uri": "https://localhost:8080/"
        },
        "id": "bbay1LSmig7W",
        "outputId": "66a2402c-82b0-48bf-ab1a-4cd2d4aa9108"
      },
      "source": [
        "%%file /content/pythagoras.py\n",
        "\n",
        "import numpy as np\n",
        "\n",
        "\n",
        "def calculate_hypotenuse(side1, side2):\n",
        "    \"\"\"Calculate the length of the hypotenuse.\"\"\"\n",
        "    l = np.sqrt( side1**2 + side2**2 )  # ____: ____\n",
        "    return l"
      ],
      "execution_count": 29,
      "outputs": [
        {
          "output_type": "stream",
          "text": [
            "Writing /content/pythagoras.py\n"
          ],
          "name": "stdout"
        }
      ]
    },
    {
      "cell_type": "code",
      "metadata": {
        "colab": {
          "base_uri": "https://localhost:8080/"
        },
        "id": "qyiMEFP2jDhR",
        "outputId": "3673a4c4-0262-4597-8207-a3fcd796b61c"
      },
      "source": [
        "!flake8 pythagoras.py"
      ],
      "execution_count": 30,
      "outputs": [
        {
          "output_type": "stream",
          "text": [
            "pythagoras.py:7:5: E741 ambiguous variable name 'l'\n",
            "pythagoras.py:7:17: E201 whitespace after '('\n",
            "pythagoras.py:7:37: E202 whitespace before ')'\n",
            "pythagoras.py:8:13: W292 no newline at end of file\n"
          ],
          "name": "stdout"
        }
      ]
    },
    {
      "cell_type": "code",
      "metadata": {
        "colab": {
          "base_uri": "https://localhost:8080/"
        },
        "id": "DN-ZZvFJjGCn",
        "outputId": "bbb3956f-a3f1-4a53-92a8-c4419d55b30a"
      },
      "source": [
        "%%file /content/pythagoras.py\n",
        "\n",
        "import numpy as np\n",
        "\n",
        "\n",
        "def calculate_hypotenuse(side1, side2):\n",
        "    \"\"\"Calculate the length of the hypotenuse.\"\"\"\n",
        "    l = np.sqrt(side1**2 + side2**2)  # noqa:E741\n",
        "    return l"
      ],
      "execution_count": 32,
      "outputs": [
        {
          "output_type": "stream",
          "text": [
            "Overwriting /content/pythagoras.py\n"
          ],
          "name": "stdout"
        }
      ]
    },
    {
      "cell_type": "code",
      "metadata": {
        "colab": {
          "base_uri": "https://localhost:8080/"
        },
        "id": "OcSF0HQijSsp",
        "outputId": "b2e3e807-babf-441b-f36e-9c4c835147f6"
      },
      "source": [
        "!flake8 pythagoras.py"
      ],
      "execution_count": 33,
      "outputs": [
        {
          "output_type": "stream",
          "text": [
            "pythagoras.py:8:13: W292 no newline at end of file\n"
          ],
          "name": "stdout"
        }
      ]
    },
    {
      "cell_type": "markdown",
      "metadata": {
        "id": "8vFOL_LOjtgB"
      },
      "source": [
        "In the top-level __init__.py file, you imported the length and weight subpackages to expose them to users. However, these imports aren't used, so flake8 will keep notifying you about them.\n",
        "\n",
        "You also might have some style violations in your tests directory, which you would like to ignore.\n",
        "\n",
        "In this exercise, you will configure flake8 to ***ignore*** these violations."
      ]
    },
    {
      "cell_type": "code",
      "metadata": {
        "colab": {
          "base_uri": "https://localhost:8080/"
        },
        "id": "_irJS0tojYpv",
        "outputId": "5b133b2d-4156-4bf1-b3c6-1e3cdf4ac079"
      },
      "source": [
        "# Modify the config to ignore unused imports (F401) violations in the impyrial/__init__.py file. Make sure to uncomment the sample lines.\n",
        "# Modify the config to ignore all violations in tests/*. Make sure to uncomment the sample lines.\n",
        "\n",
        "%%file /content/mypackages/impyrial/setup.cfg\n",
        "\n",
        "[flake8]\n",
        "\n",
        "Ignore F401 \n",
        "per-file-ignores =\n",
        "    impyrial/__init__.py : F401\n",
        "        \n",
        "exclude = tests/*"
      ],
      "execution_count": 34,
      "outputs": [
        {
          "output_type": "stream",
          "text": [
            "Writing /content/mypackages/impyrial/setup.cfg\n"
          ],
          "name": "stdout"
        }
      ]
    },
    {
      "cell_type": "code",
      "metadata": {
        "colab": {
          "base_uri": "https://localhost:8080/"
        },
        "id": "oqvjkKgLlGKy",
        "outputId": "33b78f95-c2af-4f56-8e97-003178d249ba"
      },
      "source": [
        "!pip install cookiecutter"
      ],
      "execution_count": 3,
      "outputs": [
        {
          "output_type": "stream",
          "text": [
            "Collecting cookiecutter\n",
            "  Downloading https://files.pythonhosted.org/packages/a2/62/d061b19f307455506e63825586e2e1816b71d56b4a5873c278cb315b9660/cookiecutter-1.7.3-py2.py3-none-any.whl\n",
            "Requirement already satisfied: six>=1.10 in /usr/local/lib/python3.7/dist-packages (from cookiecutter) (1.15.0)\n",
            "Requirement already satisfied: click>=7.0 in /usr/local/lib/python3.7/dist-packages (from cookiecutter) (7.1.2)\n",
            "Collecting poyo>=0.5.0\n",
            "  Downloading https://files.pythonhosted.org/packages/42/50/0b0820601bde2eda403f47b9a4a1f270098ed0dd4c00c443d883164bdccc/poyo-0.5.0-py2.py3-none-any.whl\n",
            "Requirement already satisfied: requests>=2.23.0 in /usr/local/lib/python3.7/dist-packages (from cookiecutter) (2.23.0)\n",
            "Requirement already satisfied: Jinja2<4.0.0,>=2.7 in /usr/local/lib/python3.7/dist-packages (from cookiecutter) (2.11.3)\n",
            "Collecting binaryornot>=0.4.4\n",
            "  Downloading https://files.pythonhosted.org/packages/24/7e/f7b6f453e6481d1e233540262ccbfcf89adcd43606f44a028d7f5fae5eb2/binaryornot-0.4.4-py2.py3-none-any.whl\n",
            "Requirement already satisfied: python-slugify>=4.0.0 in /usr/local/lib/python3.7/dist-packages (from cookiecutter) (5.0.2)\n",
            "Collecting jinja2-time>=0.2.0\n",
            "  Downloading https://files.pythonhosted.org/packages/6a/a1/d44fa38306ffa34a7e1af09632b158e13ec89670ce491f8a15af3ebcb4e4/jinja2_time-0.2.0-py2.py3-none-any.whl\n",
            "Requirement already satisfied: chardet<4,>=3.0.2 in /usr/local/lib/python3.7/dist-packages (from requests>=2.23.0->cookiecutter) (3.0.4)\n",
            "Requirement already satisfied: certifi>=2017.4.17 in /usr/local/lib/python3.7/dist-packages (from requests>=2.23.0->cookiecutter) (2020.12.5)\n",
            "Requirement already satisfied: urllib3!=1.25.0,!=1.25.1,<1.26,>=1.21.1 in /usr/local/lib/python3.7/dist-packages (from requests>=2.23.0->cookiecutter) (1.24.3)\n",
            "Requirement already satisfied: idna<3,>=2.5 in /usr/local/lib/python3.7/dist-packages (from requests>=2.23.0->cookiecutter) (2.10)\n",
            "Requirement already satisfied: MarkupSafe>=0.23 in /usr/local/lib/python3.7/dist-packages (from Jinja2<4.0.0,>=2.7->cookiecutter) (2.0.1)\n",
            "Requirement already satisfied: text-unidecode>=1.3 in /usr/local/lib/python3.7/dist-packages (from python-slugify>=4.0.0->cookiecutter) (1.3)\n",
            "Collecting arrow\n",
            "\u001b[?25l  Downloading https://files.pythonhosted.org/packages/e3/3a/dcb889af8de025f1fca9afd47f52726e24f4bc10aab3bc88a609cdd30250/arrow-1.1.0-py3-none-any.whl (58kB)\n",
            "\u001b[K     |████████████████████████████████| 61kB 6.4MB/s \n",
            "\u001b[?25hRequirement already satisfied: typing-extensions; python_version < \"3.8\" in /usr/local/lib/python3.7/dist-packages (from arrow->jinja2-time>=0.2.0->cookiecutter) (3.7.4.3)\n",
            "Requirement already satisfied: python-dateutil>=2.7.0 in /usr/local/lib/python3.7/dist-packages (from arrow->jinja2-time>=0.2.0->cookiecutter) (2.8.1)\n",
            "Installing collected packages: poyo, binaryornot, arrow, jinja2-time, cookiecutter\n",
            "Successfully installed arrow-1.1.0 binaryornot-0.4.4 cookiecutter-1.7.3 jinja2-time-0.2.0 poyo-0.5.0\n"
          ],
          "name": "stdout"
        }
      ]
    },
    {
      "cell_type": "code",
      "metadata": {
        "id": "niZ61Cojv2zP"
      },
      "source": [
        "import impyrial\n",
        "import pytest\n",
        "import cookiecutter"
      ],
      "execution_count": 5,
      "outputs": []
    },
    {
      "cell_type": "code",
      "metadata": {
        "colab": {
          "base_uri": "https://localhost:8080/"
        },
        "id": "GE2vYxKRIdPR",
        "outputId": "fd47378b-46a9-4f2c-8538-d3f230843ddf"
      },
      "source": [
        "# สร้าง structure ของ package ใหม่ได้ง่ายๆ\n",
        "\n",
        "!cookiecutter https://github.com/audreyfeldroy/cookiecutter-pypackage.git\n"
      ],
      "execution_count": 7,
      "outputs": [
        {
          "output_type": "stream",
          "text": [
            "full_name [Audrey Roy Greenfeld]: arm\n",
            "email [audreyr@example.com]: arm@arm.com\n",
            "github_username [audreyr]: arm\n",
            "project_name [Python Boilerplate]: fake_impyrial\n",
            "project_slug [fake_impyrial]: fake_impyrial\n",
            "project_short_description [Python Boilerplate contains all the boilerplate you need to create a Python package.]: \n",
            "pypi_username [arm]: arm\n",
            "version [0.1.0]: \n",
            "use_pytest [n]: y\n",
            "use_pypi_deployment_with_travis [y]: n\n",
            "add_pyup_badge [n]: n\n",
            "Select command_line_interface:\n",
            "1 - Click\n",
            "2 - Argparse\n",
            "3 - No command-line interface\n",
            "Choose from 1, 2, 3 [1]: 3\n",
            "create_author_file [y]: n\n",
            "Select open_source_license:\n",
            "1 - MIT license\n",
            "2 - BSD license\n",
            "3 - ISC license\n",
            "4 - Apache Software License 2.0\n",
            "5 - GNU General Public License v3\n",
            "6 - Not open source\n",
            "Choose from 1, 2, 3, 4, 5, 6 [1]: 1\n"
          ],
          "name": "stdout"
        }
      ]
    },
    {
      "cell_type": "markdown",
      "metadata": {
        "id": "vogHTUfHO3-i"
      },
      "source": [
        "Now it is time for a new minor version release, so you need to update your package's HISTORY.md file.\n",
        "\n",
        "\n",
        "\n",
        "*   Add a subtitle above the 0.1.0 section for a new minor version release.\n",
        "*   Add a \"Fixed\" section for the new release, similar to the \"Added\" section for 0.1.0.\n",
        "*   Add a bullet point to tell the users that \"Bug fixed in `length` subpackage for inches-to-feet conversion.\"\n",
        "*   Add a \"Deprecated\" section and add the bullet point \"Removed Python 2.7 support.\"\n",
        "\n"
      ]
    },
    {
      "cell_type": "code",
      "metadata": {
        "colab": {
          "base_uri": "https://localhost:8080/"
        },
        "id": "pQhy5Fr4O5y4",
        "outputId": "3ec3c92b-e1b8-450e-de7c-dd99bd476ec1"
      },
      "source": [
        "%%file /content/mypackages/impyrial/HISTORY.md\n",
        "# History\n",
        "\n",
        "## 0.2.0\n",
        "### Fixed\n",
        "- Bug fixed in `length` subpackage for inches-to-feet conversion.\n",
        "\n",
        "### Deprecated\n",
        "- Removed Python 2.7 support.\n",
        "\n",
        "## 0.1.0\n",
        "### Added\n",
        "- First release on PyPI.\n"
      ],
      "execution_count": 9,
      "outputs": [
        {
          "output_type": "stream",
          "text": [
            "Overwriting /content/mypackages/impyrial/HISTORY.md\n"
          ],
          "name": "stdout"
        }
      ]
    },
    {
      "cell_type": "code",
      "metadata": {
        "colab": {
          "base_uri": "https://localhost:8080/"
        },
        "id": "-DY8_2yIPl0G",
        "outputId": "34b4246a-6e2e-438f-bbd5-03ad86b00fa8"
      },
      "source": [
        "!pip install bumpversion"
      ],
      "execution_count": 10,
      "outputs": [
        {
          "output_type": "stream",
          "text": [
            "Collecting bumpversion\n",
            "  Downloading https://files.pythonhosted.org/packages/4e/ff/93f0db7b3ca337e9f2a289980083e858775dfb3672b38052c6911b36ea66/bumpversion-0.6.0-py2.py3-none-any.whl\n",
            "Collecting bump2version\n",
            "  Downloading https://files.pythonhosted.org/packages/1d/e3/fa60c47d7c344533142eb3af0b73234ef8ea3fb2da742ab976b947e717df/bump2version-1.0.1-py2.py3-none-any.whl\n",
            "Installing collected packages: bump2version, bumpversion\n",
            "Successfully installed bump2version-1.0.1 bumpversion-0.6.0\n"
          ],
          "name": "stdout"
        }
      ]
    },
    {
      "cell_type": "code",
      "metadata": {
        "colab": {
          "base_uri": "https://localhost:8080/"
        },
        "id": "0faNPCUFQY_-",
        "outputId": "4d3678ec-c774-4e77-bf80-41bfbee3c822"
      },
      "source": [
        "# In the terminal, use bumpversion once to increase the minor version number by one.\n",
        "!bumpversion minor\n",
        "\n",
        "# น่าจะต้องใช้งานใน shell terminal เท่านั้น"
      ],
      "execution_count": 12,
      "outputs": [
        {
          "output_type": "stream",
          "text": [
            "usage: bumpversion [-h] [--config-file FILE] [--verbose] [--list]\n",
            "                   [--allow-dirty] [--parse REGEX] [--serialize FORMAT]\n",
            "                   [--search SEARCH] [--replace REPLACE]\n",
            "                   [--current-version VERSION] [--no-configured-files]\n",
            "                   [--dry-run] --new-version VERSION [--commit | --no-commit]\n",
            "                   [--tag | --no-tag] [--sign-tags | --no-sign-tags]\n",
            "                   [--tag-name TAG_NAME] [--tag-message TAG_MESSAGE]\n",
            "                   [--message COMMIT_MSG] [--commit-args COMMIT_ARGS]\n",
            "                   part [file [file ...]]\n",
            "bumpversion: error: the following arguments are required: --new-version\n"
          ],
          "name": "stdout"
        }
      ]
    },
    {
      "cell_type": "markdown",
      "metadata": {
        "id": "PaR50p0GTEyP"
      },
      "source": [
        "\n",
        "\n",
        "*   Use make to remove the old distributions.\n",
        ">>> make clean-build\n",
        "*   Use make to run the package tests.\n",
        ">>> make test\n",
        "*   Use make to build new source and wheel distributions.\n",
        ">>> make dist\n"
      ]
    },
    {
      "cell_type": "code",
      "metadata": {
        "id": "7eMmZGh6QhuI"
      },
      "source": [
        ""
      ],
      "execution_count": null,
      "outputs": []
    }
  ]
}